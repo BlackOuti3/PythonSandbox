{
 "cells": [
  {
   "cell_type": "code",
   "execution_count": 1,
   "metadata": {
    "collapsed": true
   },
   "outputs": [],
   "source": [
    "import pandas as pd\n",
    "import numpy as np\n",
    "%matplotlib inline\n",
    "import matplotlib.pyplot as plt\n",
    "import seaborn as sns"
   ]
  },
  {
   "cell_type": "code",
   "execution_count": 2,
   "metadata": {
    "collapsed": true
   },
   "outputs": [],
   "source": [
    "df = pd.read_csv('./Data_consumer_expenditure_survey.csv',na_values='\\N')"
   ]
  },
  {
   "cell_type": "code",
   "execution_count": 3,
   "metadata": {
    "collapsed": false
   },
   "outputs": [
    {
     "data": {
      "text/html": [
       "<div>\n",
       "<table border=\"1\" class=\"dataframe\">\n",
       "  <thead>\n",
       "    <tr style=\"text-align: right;\">\n",
       "      <th></th>\n",
       "      <th>newid</th>\n",
       "      <th>age</th>\n",
       "      <th>educatio</th>\n",
       "      <th>race</th>\n",
       "      <th>sex</th>\n",
       "      <th>weeksin</th>\n",
       "      <th>emplcont</th>\n",
       "      <th>incoll</th>\n",
       "      <th>nonwork</th>\n",
       "      <th>marital</th>\n",
       "      <th>...</th>\n",
       "      <th>alc_tob</th>\n",
       "      <th>domestic_svcs</th>\n",
       "      <th>ent</th>\n",
       "      <th>other_nd</th>\n",
       "      <th>nondurable</th>\n",
       "      <th>nondurable_housing</th>\n",
       "      <th>nondurable_core</th>\n",
       "      <th>work_related</th>\n",
       "      <th>nondurable_housing_adj</th>\n",
       "      <th>nondurable_core_food</th>\n",
       "    </tr>\n",
       "  </thead>\n",
       "  <tbody>\n",
       "    <tr>\n",
       "      <th>0</th>\n",
       "      <td>113440</td>\n",
       "      <td>52</td>\n",
       "      <td>39</td>\n",
       "      <td>1</td>\n",
       "      <td>1</td>\n",
       "      <td>52</td>\n",
       "      <td>1</td>\n",
       "      <td>3</td>\n",
       "      <td>NaN</td>\n",
       "      <td>1</td>\n",
       "      <td>...</td>\n",
       "      <td>11.826665</td>\n",
       "      <td>466.243317</td>\n",
       "      <td>1589.000000</td>\n",
       "      <td>1338.644287</td>\n",
       "      <td>20788.58789</td>\n",
       "      <td>32408.47070</td>\n",
       "      <td>19467.87500</td>\n",
       "      <td>5507.252441</td>\n",
       "      <td>32396.64453</td>\n",
       "      <td>26889.39063</td>\n",
       "    </tr>\n",
       "    <tr>\n",
       "      <th>1</th>\n",
       "      <td>82908</td>\n",
       "      <td>33</td>\n",
       "      <td>3</td>\n",
       "      <td>4</td>\n",
       "      <td>1</td>\n",
       "      <td>52</td>\n",
       "      <td>2</td>\n",
       "      <td>NaN</td>\n",
       "      <td>NaN</td>\n",
       "      <td>1</td>\n",
       "      <td>...</td>\n",
       "      <td>945.438782</td>\n",
       "      <td>0.000000</td>\n",
       "      <td>42.733170</td>\n",
       "      <td>309.255219</td>\n",
       "      <td>10802.04004</td>\n",
       "      <td>16058.60449</td>\n",
       "      <td>7372.13916</td>\n",
       "      <td>1960.971924</td>\n",
       "      <td>15113.16602</td>\n",
       "      <td>13152.19434</td>\n",
       "    </tr>\n",
       "    <tr>\n",
       "      <th>2</th>\n",
       "      <td>110538</td>\n",
       "      <td>43</td>\n",
       "      <td>44</td>\n",
       "      <td>1</td>\n",
       "      <td>2</td>\n",
       "      <td>52</td>\n",
       "      <td>1</td>\n",
       "      <td>3</td>\n",
       "      <td>NaN</td>\n",
       "      <td>5</td>\n",
       "      <td>...</td>\n",
       "      <td>2274.658447</td>\n",
       "      <td>764.664917</td>\n",
       "      <td>1974.000000</td>\n",
       "      <td>764.952881</td>\n",
       "      <td>22745.26172</td>\n",
       "      <td>32992.65234</td>\n",
       "      <td>16631.12500</td>\n",
       "      <td>11701.174800</td>\n",
       "      <td>30717.99414</td>\n",
       "      <td>19016.82031</td>\n",
       "    </tr>\n",
       "    <tr>\n",
       "      <th>3</th>\n",
       "      <td>104594</td>\n",
       "      <td>56</td>\n",
       "      <td>39</td>\n",
       "      <td>1</td>\n",
       "      <td>1</td>\n",
       "      <td>52</td>\n",
       "      <td>1</td>\n",
       "      <td>3</td>\n",
       "      <td>NaN</td>\n",
       "      <td>1</td>\n",
       "      <td>...</td>\n",
       "      <td>1562.281250</td>\n",
       "      <td>502.284454</td>\n",
       "      <td>2250.523926</td>\n",
       "      <td>486.142120</td>\n",
       "      <td>31393.90234</td>\n",
       "      <td>44875.84375</td>\n",
       "      <td>23829.46680</td>\n",
       "      <td>16425.265630</td>\n",
       "      <td>43313.56250</td>\n",
       "      <td>26888.29688</td>\n",
       "    </tr>\n",
       "    <tr>\n",
       "      <th>4</th>\n",
       "      <td>91105</td>\n",
       "      <td>43</td>\n",
       "      <td>10</td>\n",
       "      <td>1</td>\n",
       "      <td>2</td>\n",
       "      <td>52</td>\n",
       "      <td>2</td>\n",
       "      <td>NaN</td>\n",
       "      <td>NaN</td>\n",
       "      <td>3</td>\n",
       "      <td>...</td>\n",
       "      <td>212.223557</td>\n",
       "      <td>531.177673</td>\n",
       "      <td>1255.368652</td>\n",
       "      <td>0.000000</td>\n",
       "      <td>19449.93750</td>\n",
       "      <td>39009.71484</td>\n",
       "      <td>25111.01367</td>\n",
       "      <td>8005.277344</td>\n",
       "      <td>38797.49219</td>\n",
       "      <td>30792.21484</td>\n",
       "    </tr>\n",
       "  </tbody>\n",
       "</table>\n",
       "<p>5 rows × 220 columns</p>\n",
       "</div>"
      ],
      "text/plain": [
       "    newid  age  educatio  race  sex  weeksin  emplcont  incoll  nonwork  \\\n",
       "0  113440   52        39     1    1       52         1       3      NaN   \n",
       "1   82908   33         3     4    1       52         2     NaN      NaN   \n",
       "2  110538   43        44     1    2       52         1       3      NaN   \n",
       "3  104594   56        39     1    1       52         1       3      NaN   \n",
       "4   91105   43        10     1    2       52         2     NaN      NaN   \n",
       "\n",
       "   marital          ...               alc_tob  domestic_svcs          ent  \\\n",
       "0        1          ...             11.826665     466.243317  1589.000000   \n",
       "1        1          ...            945.438782       0.000000    42.733170   \n",
       "2        5          ...           2274.658447     764.664917  1974.000000   \n",
       "3        1          ...           1562.281250     502.284454  2250.523926   \n",
       "4        3          ...            212.223557     531.177673  1255.368652   \n",
       "\n",
       "      other_nd   nondurable  nondurable_housing  nondurable_core  \\\n",
       "0  1338.644287  20788.58789         32408.47070      19467.87500   \n",
       "1   309.255219  10802.04004         16058.60449       7372.13916   \n",
       "2   764.952881  22745.26172         32992.65234      16631.12500   \n",
       "3   486.142120  31393.90234         44875.84375      23829.46680   \n",
       "4     0.000000  19449.93750         39009.71484      25111.01367   \n",
       "\n",
       "   work_related  nondurable_housing_adj  nondurable_core_food  \n",
       "0   5507.252441             32396.64453           26889.39063  \n",
       "1   1960.971924             15113.16602           13152.19434  \n",
       "2  11701.174800             30717.99414           19016.82031  \n",
       "3  16425.265630             43313.56250           26888.29688  \n",
       "4   8005.277344             38797.49219           30792.21484  \n",
       "\n",
       "[5 rows x 220 columns]"
      ]
     },
     "execution_count": 3,
     "metadata": {},
     "output_type": "execute_result"
    }
   ],
   "source": [
    "df.head()"
   ]
  },
  {
   "cell_type": "code",
   "execution_count": 4,
   "metadata": {
    "collapsed": false
   },
   "outputs": [
    {
     "data": {
      "text/plain": [
       "0"
      ]
     },
     "execution_count": 4,
     "metadata": {},
     "output_type": "execute_result"
    }
   ],
   "source": [
    "df.duplicated().sum()"
   ]
  },
  {
   "cell_type": "code",
   "execution_count": 5,
   "metadata": {
    "collapsed": false
   },
   "outputs": [
    {
     "name": "stdout",
     "output_type": "stream",
     "text": [
      "emplcont 3921\n",
      "incoll 1657\n",
      "nonwork 9163\n",
      "empstat 2956\n",
      "emptype 2945\n",
      "occup 44\n",
      "indust 12064\n",
      "govhous 593\n",
      "sex_spouse 4528\n",
      "age_spouse 4528\n",
      "empstat_spouse 6738\n",
      "emptype_spouse 6710\n",
      "hrswkd_spouse 4528\n",
      "wkswkd_spouse 4528\n",
      "wage_spouse 4528\n"
     ]
    }
   ],
   "source": [
    "## Locate and print features with null values\n",
    "for feat in df.columns:\n",
    "    if df[str(feat)].isnull().sum() != 0:\n",
    "        num_nans = df[str(feat)].isnull().sum()\n",
    "        print feat, num_nans\n",
    "        "
   ]
  },
  {
   "cell_type": "code",
   "execution_count": 6,
   "metadata": {
    "collapsed": false
   },
   "outputs": [],
   "source": [
    "## Drop column with too many nans\n",
    "df = df.drop('indust',1)\n",
    "#df.drop('nonwork',1)"
   ]
  },
  {
   "cell_type": "code",
   "execution_count": 7,
   "metadata": {
    "collapsed": false
   },
   "outputs": [
    {
     "data": {
      "text/html": [
       "<div>\n",
       "<table border=\"1\" class=\"dataframe\">\n",
       "  <thead>\n",
       "    <tr style=\"text-align: right;\">\n",
       "      <th></th>\n",
       "      <th>newid</th>\n",
       "      <th>age</th>\n",
       "      <th>educatio</th>\n",
       "      <th>race</th>\n",
       "      <th>sex</th>\n",
       "      <th>weeksin</th>\n",
       "      <th>emplcont</th>\n",
       "      <th>incoll</th>\n",
       "      <th>nonwork</th>\n",
       "      <th>marital</th>\n",
       "      <th>...</th>\n",
       "      <th>alc_tob</th>\n",
       "      <th>domestic_svcs</th>\n",
       "      <th>ent</th>\n",
       "      <th>other_nd</th>\n",
       "      <th>nondurable</th>\n",
       "      <th>nondurable_housing</th>\n",
       "      <th>nondurable_core</th>\n",
       "      <th>work_related</th>\n",
       "      <th>nondurable_housing_adj</th>\n",
       "      <th>nondurable_core_food</th>\n",
       "    </tr>\n",
       "  </thead>\n",
       "  <tbody>\n",
       "    <tr>\n",
       "      <th>count</th>\n",
       "      <td>12064.000000</td>\n",
       "      <td>12064.000000</td>\n",
       "      <td>12064.000000</td>\n",
       "      <td>12064.000000</td>\n",
       "      <td>12064.000000</td>\n",
       "      <td>12064.000000</td>\n",
       "      <td>8143.000000</td>\n",
       "      <td>10407.000000</td>\n",
       "      <td>2901.000000</td>\n",
       "      <td>12064.000000</td>\n",
       "      <td>...</td>\n",
       "      <td>12064.000000</td>\n",
       "      <td>12064.000000</td>\n",
       "      <td>12064.000000</td>\n",
       "      <td>12064.000000</td>\n",
       "      <td>12064.000000</td>\n",
       "      <td>12064.000000</td>\n",
       "      <td>12064.000000</td>\n",
       "      <td>12064.000000</td>\n",
       "      <td>12064.000000</td>\n",
       "      <td>12064.000000</td>\n",
       "    </tr>\n",
       "    <tr>\n",
       "      <th>mean</th>\n",
       "      <td>93869.305869</td>\n",
       "      <td>49.713528</td>\n",
       "      <td>36.989390</td>\n",
       "      <td>1.222729</td>\n",
       "      <td>1.393816</td>\n",
       "      <td>51.884698</td>\n",
       "      <td>1.556674</td>\n",
       "      <td>2.932738</td>\n",
       "      <td>3.755257</td>\n",
       "      <td>1.885527</td>\n",
       "      <td>...</td>\n",
       "      <td>765.382462</td>\n",
       "      <td>725.895307</td>\n",
       "      <td>1489.785427</td>\n",
       "      <td>1193.841125</td>\n",
       "      <td>18732.072673</td>\n",
       "      <td>29419.883990</td>\n",
       "      <td>16904.166196</td>\n",
       "      <td>7577.647242</td>\n",
       "      <td>28654.501520</td>\n",
       "      <td>21076.854297</td>\n",
       "    </tr>\n",
       "    <tr>\n",
       "      <th>std</th>\n",
       "      <td>12488.818491</td>\n",
       "      <td>12.611758</td>\n",
       "      <td>10.903671</td>\n",
       "      <td>0.644230</td>\n",
       "      <td>0.488615</td>\n",
       "      <td>1.818522</td>\n",
       "      <td>0.496808</td>\n",
       "      <td>0.293258</td>\n",
       "      <td>1.716877</td>\n",
       "      <td>1.353988</td>\n",
       "      <td>...</td>\n",
       "      <td>1027.670198</td>\n",
       "      <td>1312.222987</td>\n",
       "      <td>1732.478773</td>\n",
       "      <td>3675.680700</td>\n",
       "      <td>11301.174740</td>\n",
       "      <td>15895.145900</td>\n",
       "      <td>10555.490875</td>\n",
       "      <td>5423.041769</td>\n",
       "      <td>15673.408432</td>\n",
       "      <td>11577.734034</td>\n",
       "    </tr>\n",
       "    <tr>\n",
       "      <th>min</th>\n",
       "      <td>70428.000000</td>\n",
       "      <td>28.000000</td>\n",
       "      <td>0.000000</td>\n",
       "      <td>1.000000</td>\n",
       "      <td>1.000000</td>\n",
       "      <td>13.000000</td>\n",
       "      <td>1.000000</td>\n",
       "      <td>1.000000</td>\n",
       "      <td>1.000000</td>\n",
       "      <td>1.000000</td>\n",
       "      <td>...</td>\n",
       "      <td>0.000000</td>\n",
       "      <td>0.000000</td>\n",
       "      <td>2.000000</td>\n",
       "      <td>0.000000</td>\n",
       "      <td>1283.823486</td>\n",
       "      <td>3104.556396</td>\n",
       "      <td>1243.658569</td>\n",
       "      <td>36.757008</td>\n",
       "      <td>2518.541260</td>\n",
       "      <td>2032.416748</td>\n",
       "    </tr>\n",
       "    <tr>\n",
       "      <th>25%</th>\n",
       "      <td>83136.500000</td>\n",
       "      <td>39.000000</td>\n",
       "      <td>39.000000</td>\n",
       "      <td>1.000000</td>\n",
       "      <td>1.000000</td>\n",
       "      <td>52.000000</td>\n",
       "      <td>1.000000</td>\n",
       "      <td>3.000000</td>\n",
       "      <td>2.000000</td>\n",
       "      <td>1.000000</td>\n",
       "      <td>...</td>\n",
       "      <td>30.915649</td>\n",
       "      <td>71.491043</td>\n",
       "      <td>535.808228</td>\n",
       "      <td>0.000000</td>\n",
       "      <td>11587.568602</td>\n",
       "      <td>19003.721190</td>\n",
       "      <td>10276.582763</td>\n",
       "      <td>3908.055359</td>\n",
       "      <td>18344.997557</td>\n",
       "      <td>13691.067872</td>\n",
       "    </tr>\n",
       "    <tr>\n",
       "      <th>50%</th>\n",
       "      <td>92833.500000</td>\n",
       "      <td>48.000000</td>\n",
       "      <td>40.000000</td>\n",
       "      <td>1.000000</td>\n",
       "      <td>1.000000</td>\n",
       "      <td>52.000000</td>\n",
       "      <td>2.000000</td>\n",
       "      <td>3.000000</td>\n",
       "      <td>5.000000</td>\n",
       "      <td>1.000000</td>\n",
       "      <td>...</td>\n",
       "      <td>372.807343</td>\n",
       "      <td>390.159348</td>\n",
       "      <td>1021.301269</td>\n",
       "      <td>318.104370</td>\n",
       "      <td>16653.043945</td>\n",
       "      <td>26359.995115</td>\n",
       "      <td>14654.350095</td>\n",
       "      <td>6376.739258</td>\n",
       "      <td>25587.085940</td>\n",
       "      <td>18750.054685</td>\n",
       "    </tr>\n",
       "    <tr>\n",
       "      <th>75%</th>\n",
       "      <td>104997.000000</td>\n",
       "      <td>59.000000</td>\n",
       "      <td>43.000000</td>\n",
       "      <td>1.000000</td>\n",
       "      <td>2.000000</td>\n",
       "      <td>52.000000</td>\n",
       "      <td>2.000000</td>\n",
       "      <td>3.000000</td>\n",
       "      <td>5.000000</td>\n",
       "      <td>3.000000</td>\n",
       "      <td>...</td>\n",
       "      <td>1143.811004</td>\n",
       "      <td>860.171631</td>\n",
       "      <td>1858.622803</td>\n",
       "      <td>1288.576172</td>\n",
       "      <td>23092.725095</td>\n",
       "      <td>36110.059575</td>\n",
       "      <td>20898.536133</td>\n",
       "      <td>9796.965088</td>\n",
       "      <td>35291.596680</td>\n",
       "      <td>25727.223142</td>\n",
       "    </tr>\n",
       "    <tr>\n",
       "      <th>max</th>\n",
       "      <td>115811.000000</td>\n",
       "      <td>75.000000</td>\n",
       "      <td>46.000000</td>\n",
       "      <td>4.000000</td>\n",
       "      <td>2.000000</td>\n",
       "      <td>52.000000</td>\n",
       "      <td>2.000000</td>\n",
       "      <td>3.000000</td>\n",
       "      <td>6.000000</td>\n",
       "      <td>5.000000</td>\n",
       "      <td>...</td>\n",
       "      <td>14704.000000</td>\n",
       "      <td>34358.078130</td>\n",
       "      <td>36605.800780</td>\n",
       "      <td>225315.984400</td>\n",
       "      <td>332322.000000</td>\n",
       "      <td>366214.906300</td>\n",
       "      <td>292687.906300</td>\n",
       "      <td>80179.179690</td>\n",
       "      <td>351510.906300</td>\n",
       "      <td>302277.906300</td>\n",
       "    </tr>\n",
       "  </tbody>\n",
       "</table>\n",
       "<p>8 rows × 219 columns</p>\n",
       "</div>"
      ],
      "text/plain": [
       "               newid           age      educatio          race           sex  \\\n",
       "count   12064.000000  12064.000000  12064.000000  12064.000000  12064.000000   \n",
       "mean    93869.305869     49.713528     36.989390      1.222729      1.393816   \n",
       "std     12488.818491     12.611758     10.903671      0.644230      0.488615   \n",
       "min     70428.000000     28.000000      0.000000      1.000000      1.000000   \n",
       "25%     83136.500000     39.000000     39.000000      1.000000      1.000000   \n",
       "50%     92833.500000     48.000000     40.000000      1.000000      1.000000   \n",
       "75%    104997.000000     59.000000     43.000000      1.000000      2.000000   \n",
       "max    115811.000000     75.000000     46.000000      4.000000      2.000000   \n",
       "\n",
       "            weeksin     emplcont        incoll      nonwork       marital  \\\n",
       "count  12064.000000  8143.000000  10407.000000  2901.000000  12064.000000   \n",
       "mean      51.884698     1.556674      2.932738     3.755257      1.885527   \n",
       "std        1.818522     0.496808      0.293258     1.716877      1.353988   \n",
       "min       13.000000     1.000000      1.000000     1.000000      1.000000   \n",
       "25%       52.000000     1.000000      3.000000     2.000000      1.000000   \n",
       "50%       52.000000     2.000000      3.000000     5.000000      1.000000   \n",
       "75%       52.000000     2.000000      3.000000     5.000000      3.000000   \n",
       "max       52.000000     2.000000      3.000000     6.000000      5.000000   \n",
       "\n",
       "               ...                alc_tob  domestic_svcs           ent  \\\n",
       "count          ...           12064.000000   12064.000000  12064.000000   \n",
       "mean           ...             765.382462     725.895307   1489.785427   \n",
       "std            ...            1027.670198    1312.222987   1732.478773   \n",
       "min            ...               0.000000       0.000000      2.000000   \n",
       "25%            ...              30.915649      71.491043    535.808228   \n",
       "50%            ...             372.807343     390.159348   1021.301269   \n",
       "75%            ...            1143.811004     860.171631   1858.622803   \n",
       "max            ...           14704.000000   34358.078130  36605.800780   \n",
       "\n",
       "            other_nd     nondurable  nondurable_housing  nondurable_core  \\\n",
       "count   12064.000000   12064.000000        12064.000000     12064.000000   \n",
       "mean     1193.841125   18732.072673        29419.883990     16904.166196   \n",
       "std      3675.680700   11301.174740        15895.145900     10555.490875   \n",
       "min         0.000000    1283.823486         3104.556396      1243.658569   \n",
       "25%         0.000000   11587.568602        19003.721190     10276.582763   \n",
       "50%       318.104370   16653.043945        26359.995115     14654.350095   \n",
       "75%      1288.576172   23092.725095        36110.059575     20898.536133   \n",
       "max    225315.984400  332322.000000       366214.906300    292687.906300   \n",
       "\n",
       "       work_related  nondurable_housing_adj  nondurable_core_food  \n",
       "count  12064.000000            12064.000000          12064.000000  \n",
       "mean    7577.647242            28654.501520          21076.854297  \n",
       "std     5423.041769            15673.408432          11577.734034  \n",
       "min       36.757008             2518.541260           2032.416748  \n",
       "25%     3908.055359            18344.997557          13691.067872  \n",
       "50%     6376.739258            25587.085940          18750.054685  \n",
       "75%     9796.965088            35291.596680          25727.223142  \n",
       "max    80179.179690           351510.906300         302277.906300  \n",
       "\n",
       "[8 rows x 219 columns]"
      ]
     },
     "execution_count": 7,
     "metadata": {},
     "output_type": "execute_result"
    }
   ],
   "source": [
    "df.describe()"
   ]
  },
  {
   "cell_type": "code",
   "execution_count": 8,
   "metadata": {
    "collapsed": false
   },
   "outputs": [
    {
     "data": {
      "text/html": [
       "<div>\n",
       "<table border=\"1\" class=\"dataframe\">\n",
       "  <thead>\n",
       "    <tr style=\"text-align: right;\">\n",
       "      <th></th>\n",
       "      <th>newid</th>\n",
       "      <th>age</th>\n",
       "      <th>educatio</th>\n",
       "      <th>race</th>\n",
       "      <th>sex</th>\n",
       "      <th>weeksin</th>\n",
       "      <th>emplcont</th>\n",
       "      <th>incoll</th>\n",
       "      <th>nonwork</th>\n",
       "      <th>marital</th>\n",
       "      <th>...</th>\n",
       "      <th>alc_tob</th>\n",
       "      <th>domestic_svcs</th>\n",
       "      <th>ent</th>\n",
       "      <th>other_nd</th>\n",
       "      <th>nondurable</th>\n",
       "      <th>nondurable_housing</th>\n",
       "      <th>nondurable_core</th>\n",
       "      <th>work_related</th>\n",
       "      <th>nondurable_housing_adj</th>\n",
       "      <th>nondurable_core_food</th>\n",
       "    </tr>\n",
       "  </thead>\n",
       "  <tbody>\n",
       "    <tr>\n",
       "      <th>0</th>\n",
       "      <td>113440</td>\n",
       "      <td>52</td>\n",
       "      <td>39</td>\n",
       "      <td>1</td>\n",
       "      <td>1</td>\n",
       "      <td>52</td>\n",
       "      <td>1</td>\n",
       "      <td>3</td>\n",
       "      <td>NaN</td>\n",
       "      <td>1</td>\n",
       "      <td>...</td>\n",
       "      <td>11.826665</td>\n",
       "      <td>466.243317</td>\n",
       "      <td>1589.000000</td>\n",
       "      <td>1338.644287</td>\n",
       "      <td>20788.58789</td>\n",
       "      <td>32408.47070</td>\n",
       "      <td>19467.87500</td>\n",
       "      <td>5507.252441</td>\n",
       "      <td>32396.64453</td>\n",
       "      <td>26889.39063</td>\n",
       "    </tr>\n",
       "    <tr>\n",
       "      <th>1</th>\n",
       "      <td>82908</td>\n",
       "      <td>33</td>\n",
       "      <td>3</td>\n",
       "      <td>4</td>\n",
       "      <td>1</td>\n",
       "      <td>52</td>\n",
       "      <td>2</td>\n",
       "      <td>NaN</td>\n",
       "      <td>NaN</td>\n",
       "      <td>1</td>\n",
       "      <td>...</td>\n",
       "      <td>945.438782</td>\n",
       "      <td>0.000000</td>\n",
       "      <td>42.733170</td>\n",
       "      <td>309.255219</td>\n",
       "      <td>10802.04004</td>\n",
       "      <td>16058.60449</td>\n",
       "      <td>7372.13916</td>\n",
       "      <td>1960.971924</td>\n",
       "      <td>15113.16602</td>\n",
       "      <td>13152.19434</td>\n",
       "    </tr>\n",
       "    <tr>\n",
       "      <th>2</th>\n",
       "      <td>110538</td>\n",
       "      <td>43</td>\n",
       "      <td>44</td>\n",
       "      <td>1</td>\n",
       "      <td>2</td>\n",
       "      <td>52</td>\n",
       "      <td>1</td>\n",
       "      <td>3</td>\n",
       "      <td>NaN</td>\n",
       "      <td>5</td>\n",
       "      <td>...</td>\n",
       "      <td>2274.658447</td>\n",
       "      <td>764.664917</td>\n",
       "      <td>1974.000000</td>\n",
       "      <td>764.952881</td>\n",
       "      <td>22745.26172</td>\n",
       "      <td>32992.65234</td>\n",
       "      <td>16631.12500</td>\n",
       "      <td>11701.174800</td>\n",
       "      <td>30717.99414</td>\n",
       "      <td>19016.82031</td>\n",
       "    </tr>\n",
       "    <tr>\n",
       "      <th>3</th>\n",
       "      <td>104594</td>\n",
       "      <td>56</td>\n",
       "      <td>39</td>\n",
       "      <td>1</td>\n",
       "      <td>1</td>\n",
       "      <td>52</td>\n",
       "      <td>1</td>\n",
       "      <td>3</td>\n",
       "      <td>NaN</td>\n",
       "      <td>1</td>\n",
       "      <td>...</td>\n",
       "      <td>1562.281250</td>\n",
       "      <td>502.284454</td>\n",
       "      <td>2250.523926</td>\n",
       "      <td>486.142120</td>\n",
       "      <td>31393.90234</td>\n",
       "      <td>44875.84375</td>\n",
       "      <td>23829.46680</td>\n",
       "      <td>16425.265630</td>\n",
       "      <td>43313.56250</td>\n",
       "      <td>26888.29688</td>\n",
       "    </tr>\n",
       "    <tr>\n",
       "      <th>4</th>\n",
       "      <td>91105</td>\n",
       "      <td>43</td>\n",
       "      <td>10</td>\n",
       "      <td>1</td>\n",
       "      <td>2</td>\n",
       "      <td>52</td>\n",
       "      <td>2</td>\n",
       "      <td>NaN</td>\n",
       "      <td>NaN</td>\n",
       "      <td>3</td>\n",
       "      <td>...</td>\n",
       "      <td>212.223557</td>\n",
       "      <td>531.177673</td>\n",
       "      <td>1255.368652</td>\n",
       "      <td>0.000000</td>\n",
       "      <td>19449.93750</td>\n",
       "      <td>39009.71484</td>\n",
       "      <td>25111.01367</td>\n",
       "      <td>8005.277344</td>\n",
       "      <td>38797.49219</td>\n",
       "      <td>30792.21484</td>\n",
       "    </tr>\n",
       "  </tbody>\n",
       "</table>\n",
       "<p>5 rows × 219 columns</p>\n",
       "</div>"
      ],
      "text/plain": [
       "    newid  age  educatio  race  sex  weeksin  emplcont  incoll  nonwork  \\\n",
       "0  113440   52        39     1    1       52         1       3      NaN   \n",
       "1   82908   33         3     4    1       52         2     NaN      NaN   \n",
       "2  110538   43        44     1    2       52         1       3      NaN   \n",
       "3  104594   56        39     1    1       52         1       3      NaN   \n",
       "4   91105   43        10     1    2       52         2     NaN      NaN   \n",
       "\n",
       "   marital          ...               alc_tob  domestic_svcs          ent  \\\n",
       "0        1          ...             11.826665     466.243317  1589.000000   \n",
       "1        1          ...            945.438782       0.000000    42.733170   \n",
       "2        5          ...           2274.658447     764.664917  1974.000000   \n",
       "3        1          ...           1562.281250     502.284454  2250.523926   \n",
       "4        3          ...            212.223557     531.177673  1255.368652   \n",
       "\n",
       "      other_nd   nondurable  nondurable_housing  nondurable_core  \\\n",
       "0  1338.644287  20788.58789         32408.47070      19467.87500   \n",
       "1   309.255219  10802.04004         16058.60449       7372.13916   \n",
       "2   764.952881  22745.26172         32992.65234      16631.12500   \n",
       "3   486.142120  31393.90234         44875.84375      23829.46680   \n",
       "4     0.000000  19449.93750         39009.71484      25111.01367   \n",
       "\n",
       "   work_related  nondurable_housing_adj  nondurable_core_food  \n",
       "0   5507.252441             32396.64453           26889.39063  \n",
       "1   1960.971924             15113.16602           13152.19434  \n",
       "2  11701.174800             30717.99414           19016.82031  \n",
       "3  16425.265630             43313.56250           26888.29688  \n",
       "4   8005.277344             38797.49219           30792.21484  \n",
       "\n",
       "[5 rows x 219 columns]"
      ]
     },
     "execution_count": 8,
     "metadata": {},
     "output_type": "execute_result"
    }
   ],
   "source": [
    "df.head()"
   ]
  },
  {
   "cell_type": "code",
   "execution_count": 9,
   "metadata": {
    "collapsed": true
   },
   "outputs": [],
   "source": [
    "#from sklearn.preprocessing import Imputer\n",
    "## Replace nans with column mean\n",
    "#imr = Imputer(missing_values='NaN',strategy='mean',axis=0)\n",
    "#imr = imr.fit(df)\n",
    "#imputed_data = imr.transform(df.values)"
   ]
  },
  {
   "cell_type": "code",
   "execution_count": 10,
   "metadata": {
    "collapsed": false
   },
   "outputs": [],
   "source": [
    "## fill NaNs with column mean\n",
    "df_filled = df.fillna(df.mean())"
   ]
  },
  {
   "cell_type": "code",
   "execution_count": 11,
   "metadata": {
    "collapsed": false
   },
   "outputs": [
    {
     "data": {
      "text/html": [
       "<div>\n",
       "<table border=\"1\" class=\"dataframe\">\n",
       "  <thead>\n",
       "    <tr style=\"text-align: right;\">\n",
       "      <th></th>\n",
       "      <th>newid</th>\n",
       "      <th>age</th>\n",
       "      <th>educatio</th>\n",
       "      <th>race</th>\n",
       "      <th>sex</th>\n",
       "      <th>weeksin</th>\n",
       "      <th>emplcont</th>\n",
       "      <th>incoll</th>\n",
       "      <th>nonwork</th>\n",
       "      <th>marital</th>\n",
       "      <th>...</th>\n",
       "      <th>alc_tob</th>\n",
       "      <th>domestic_svcs</th>\n",
       "      <th>ent</th>\n",
       "      <th>other_nd</th>\n",
       "      <th>nondurable</th>\n",
       "      <th>nondurable_housing</th>\n",
       "      <th>nondurable_core</th>\n",
       "      <th>work_related</th>\n",
       "      <th>nondurable_housing_adj</th>\n",
       "      <th>nondurable_core_food</th>\n",
       "    </tr>\n",
       "  </thead>\n",
       "  <tbody>\n",
       "    <tr>\n",
       "      <th>0</th>\n",
       "      <td>113440</td>\n",
       "      <td>52</td>\n",
       "      <td>39</td>\n",
       "      <td>1</td>\n",
       "      <td>1</td>\n",
       "      <td>52</td>\n",
       "      <td>1</td>\n",
       "      <td>3.000000</td>\n",
       "      <td>3.755257</td>\n",
       "      <td>1</td>\n",
       "      <td>...</td>\n",
       "      <td>11.826665</td>\n",
       "      <td>466.243317</td>\n",
       "      <td>1589.000000</td>\n",
       "      <td>1338.644287</td>\n",
       "      <td>20788.58789</td>\n",
       "      <td>32408.47070</td>\n",
       "      <td>19467.87500</td>\n",
       "      <td>5507.252441</td>\n",
       "      <td>32396.64453</td>\n",
       "      <td>26889.39063</td>\n",
       "    </tr>\n",
       "    <tr>\n",
       "      <th>1</th>\n",
       "      <td>82908</td>\n",
       "      <td>33</td>\n",
       "      <td>3</td>\n",
       "      <td>4</td>\n",
       "      <td>1</td>\n",
       "      <td>52</td>\n",
       "      <td>2</td>\n",
       "      <td>2.932738</td>\n",
       "      <td>3.755257</td>\n",
       "      <td>1</td>\n",
       "      <td>...</td>\n",
       "      <td>945.438782</td>\n",
       "      <td>0.000000</td>\n",
       "      <td>42.733170</td>\n",
       "      <td>309.255219</td>\n",
       "      <td>10802.04004</td>\n",
       "      <td>16058.60449</td>\n",
       "      <td>7372.13916</td>\n",
       "      <td>1960.971924</td>\n",
       "      <td>15113.16602</td>\n",
       "      <td>13152.19434</td>\n",
       "    </tr>\n",
       "    <tr>\n",
       "      <th>2</th>\n",
       "      <td>110538</td>\n",
       "      <td>43</td>\n",
       "      <td>44</td>\n",
       "      <td>1</td>\n",
       "      <td>2</td>\n",
       "      <td>52</td>\n",
       "      <td>1</td>\n",
       "      <td>3.000000</td>\n",
       "      <td>3.755257</td>\n",
       "      <td>5</td>\n",
       "      <td>...</td>\n",
       "      <td>2274.658447</td>\n",
       "      <td>764.664917</td>\n",
       "      <td>1974.000000</td>\n",
       "      <td>764.952881</td>\n",
       "      <td>22745.26172</td>\n",
       "      <td>32992.65234</td>\n",
       "      <td>16631.12500</td>\n",
       "      <td>11701.174800</td>\n",
       "      <td>30717.99414</td>\n",
       "      <td>19016.82031</td>\n",
       "    </tr>\n",
       "    <tr>\n",
       "      <th>3</th>\n",
       "      <td>104594</td>\n",
       "      <td>56</td>\n",
       "      <td>39</td>\n",
       "      <td>1</td>\n",
       "      <td>1</td>\n",
       "      <td>52</td>\n",
       "      <td>1</td>\n",
       "      <td>3.000000</td>\n",
       "      <td>3.755257</td>\n",
       "      <td>1</td>\n",
       "      <td>...</td>\n",
       "      <td>1562.281250</td>\n",
       "      <td>502.284454</td>\n",
       "      <td>2250.523926</td>\n",
       "      <td>486.142120</td>\n",
       "      <td>31393.90234</td>\n",
       "      <td>44875.84375</td>\n",
       "      <td>23829.46680</td>\n",
       "      <td>16425.265630</td>\n",
       "      <td>43313.56250</td>\n",
       "      <td>26888.29688</td>\n",
       "    </tr>\n",
       "    <tr>\n",
       "      <th>4</th>\n",
       "      <td>91105</td>\n",
       "      <td>43</td>\n",
       "      <td>10</td>\n",
       "      <td>1</td>\n",
       "      <td>2</td>\n",
       "      <td>52</td>\n",
       "      <td>2</td>\n",
       "      <td>2.932738</td>\n",
       "      <td>3.755257</td>\n",
       "      <td>3</td>\n",
       "      <td>...</td>\n",
       "      <td>212.223557</td>\n",
       "      <td>531.177673</td>\n",
       "      <td>1255.368652</td>\n",
       "      <td>0.000000</td>\n",
       "      <td>19449.93750</td>\n",
       "      <td>39009.71484</td>\n",
       "      <td>25111.01367</td>\n",
       "      <td>8005.277344</td>\n",
       "      <td>38797.49219</td>\n",
       "      <td>30792.21484</td>\n",
       "    </tr>\n",
       "  </tbody>\n",
       "</table>\n",
       "<p>5 rows × 219 columns</p>\n",
       "</div>"
      ],
      "text/plain": [
       "    newid  age  educatio  race  sex  weeksin  emplcont    incoll   nonwork  \\\n",
       "0  113440   52        39     1    1       52         1  3.000000  3.755257   \n",
       "1   82908   33         3     4    1       52         2  2.932738  3.755257   \n",
       "2  110538   43        44     1    2       52         1  3.000000  3.755257   \n",
       "3  104594   56        39     1    1       52         1  3.000000  3.755257   \n",
       "4   91105   43        10     1    2       52         2  2.932738  3.755257   \n",
       "\n",
       "   marital          ...               alc_tob  domestic_svcs          ent  \\\n",
       "0        1          ...             11.826665     466.243317  1589.000000   \n",
       "1        1          ...            945.438782       0.000000    42.733170   \n",
       "2        5          ...           2274.658447     764.664917  1974.000000   \n",
       "3        1          ...           1562.281250     502.284454  2250.523926   \n",
       "4        3          ...            212.223557     531.177673  1255.368652   \n",
       "\n",
       "      other_nd   nondurable  nondurable_housing  nondurable_core  \\\n",
       "0  1338.644287  20788.58789         32408.47070      19467.87500   \n",
       "1   309.255219  10802.04004         16058.60449       7372.13916   \n",
       "2   764.952881  22745.26172         32992.65234      16631.12500   \n",
       "3   486.142120  31393.90234         44875.84375      23829.46680   \n",
       "4     0.000000  19449.93750         39009.71484      25111.01367   \n",
       "\n",
       "   work_related  nondurable_housing_adj  nondurable_core_food  \n",
       "0   5507.252441             32396.64453           26889.39063  \n",
       "1   1960.971924             15113.16602           13152.19434  \n",
       "2  11701.174800             30717.99414           19016.82031  \n",
       "3  16425.265630             43313.56250           26888.29688  \n",
       "4   8005.277344             38797.49219           30792.21484  \n",
       "\n",
       "[5 rows x 219 columns]"
      ]
     },
     "execution_count": 11,
     "metadata": {},
     "output_type": "execute_result"
    }
   ],
   "source": [
    "df_filled.head()"
   ]
  },
  {
   "cell_type": "code",
   "execution_count": 12,
   "metadata": {
    "collapsed": false
   },
   "outputs": [
    {
     "data": {
      "text/plain": [
       "<matplotlib.axes.AxesSubplot at 0xaad786ec>"
      ]
     },
     "execution_count": 12,
     "metadata": {},
     "output_type": "execute_result"
    },
    {
     "data": {
      "image/png": "[encoded data removed]",
      "text/plain": [
       "<matplotlib.figure.Figure at 0xaad943cc>"
      ]
     },
     "metadata": {},
     "output_type": "display_data"
    }
   ],
   "source": [
    "sns.distplot(df_filled.hrswkd,kde=False)"
   ]
  },
  {
   "cell_type": "code",
   "execution_count": 13,
   "metadata": {
    "collapsed": false
   },
   "outputs": [
    {
     "data": {
      "text/plain": [
       "<matplotlib.axes.AxesSubplot at 0xaadc9e0c>"
      ]
     },
     "execution_count": 13,
     "metadata": {},
     "output_type": "execute_result"
    },
    {
     "data": {
      "image/png": "[encoded data removed]",
      "text/plain": [
       "<matplotlib.figure.Figure at 0xaadc9bcc>"
      ]
     },
     "metadata": {},
     "output_type": "display_data"
    }
   ],
   "source": [
    "sns.countplot(df_filled.race,hue=df.sex)\n",
    "## Huge bias towards white"
   ]
  },
  {
   "cell_type": "code",
   "execution_count": 14,
   "metadata": {
    "collapsed": false
   },
   "outputs": [
    {
     "data": {
      "text/plain": [
       "<matplotlib.axes.AxesSubplot at 0xaad2ba0c>"
      ]
     },
     "execution_count": 14,
     "metadata": {},
     "output_type": "execute_result"
    },
    {
     "data": {
      "image/png": "[encoded data removed]",
      "text/plain": [
       "<matplotlib.figure.Figure at 0xaad7804c>"
      ]
     },
     "metadata": {},
     "output_type": "display_data"
    }
   ],
   "source": [
    "## Income by location\n",
    "sns.distplot(df_filled.income[df_filled.region==1],kde=False)"
   ]
  },
  {
   "cell_type": "code",
   "execution_count": 15,
   "metadata": {
    "collapsed": false
   },
   "outputs": [
    {
     "data": {
      "text/plain": [
       "<matplotlib.axes.AxesSubplot at 0xaab63b6c>"
      ]
     },
     "execution_count": 15,
     "metadata": {},
     "output_type": "execute_result"
    },
    {
     "data": {
      "image/png": "[encoded data removed]",
      "text/plain": [
       "<matplotlib.figure.Figure at 0xaac79fec>"
      ]
     },
     "metadata": {},
     "output_type": "display_data"
    }
   ],
   "source": [
    "sns.distplot(df_filled.region,kde=False)"
   ]
  },
  {
   "cell_type": "code",
   "execution_count": 16,
   "metadata": {
    "collapsed": false
   },
   "outputs": [
    {
     "data": {
      "image/png": "[encoded data removed]",
      "text/plain": [
       "<matplotlib.figure.Figure at 0xaaa839cc>"
      ]
     },
     "metadata": {},
     "output_type": "display_data"
    }
   ],
   "source": [
    "sns.distplot(df_filled.income[df_filled.region==1])\n",
    "sns.distplot(df_filled.income[df_filled.region==2])\n",
    "sns.distplot(df_filled.income[df_filled.region==3])\n",
    "sns.distplot(df_filled.income[df_filled.region==4])\n",
    "plt.xlim(0.0,4E5)\n",
    "plt.yscale('log')"
   ]
  },
  {
   "cell_type": "code",
   "execution_count": 17,
   "metadata": {
    "collapsed": false
   },
   "outputs": [
    {
     "data": {
      "text/plain": [
       "Index([u'newid', u'age', u'educatio', u'race', u'sex', u'weeksin', u'emplcont',\n",
       "       u'incoll', u'nonwork', u'marital', u'empstat', u'emptype', u'hrswkd',\n",
       "       u'wkswkd', u'occup', u'fedtax', u'gvpremia', u'pripemia', u'rrpremia',\n",
       "       u'statax'],\n",
       "      dtype='object')"
      ]
     },
     "execution_count": 17,
     "metadata": {},
     "output_type": "execute_result"
    }
   ],
   "source": [
    "df_filled.columns[:20]"
   ]
  },
  {
   "cell_type": "code",
   "execution_count": 18,
   "metadata": {
    "collapsed": false
   },
   "outputs": [
    {
     "data": {
      "text/plain": [
       "<matplotlib.axes.AxesSubplot at 0xa7b5168c>"
      ]
     },
     "execution_count": 18,
     "metadata": {},
     "output_type": "execute_result"
    },
    {
     "data": {
      "image/png": "[encoded data removed]",
      "text/plain": [
       "<matplotlib.figure.Figure at 0xa7b516ac>"
      ]
     },
     "metadata": {},
     "output_type": "display_data"
    }
   ],
   "source": [
    "sns.countplot(df_filled.incoll)\n",
    "## Most samples have no college "
   ]
  },
  {
   "cell_type": "code",
   "execution_count": 19,
   "metadata": {
    "collapsed": false
   },
   "outputs": [
    {
     "data": {
      "text/plain": [
       "<matplotlib.axes.AxesSubplot at 0xa7b5f6ec>"
      ]
     },
     "execution_count": 19,
     "metadata": {},
     "output_type": "execute_result"
    },
    {
     "data": {
      "image/png": "[encoded data removed]",
      "text/plain": [
       "<matplotlib.figure.Figure at 0xa7b5f7ec>"
      ]
     },
     "metadata": {},
     "output_type": "display_data"
    }
   ],
   "source": [
    "sns.countplot(df_filled.nonwork)\n",
    "## the main reason for not working (5) is\n",
    "## that folks are retired. The next reason is illness (1).\n",
    "## Note: 3.75 is the average filled in for NaNs."
   ]
  },
  {
   "cell_type": "code",
   "execution_count": 20,
   "metadata": {
    "collapsed": false
   },
   "outputs": [
    {
     "data": {
      "text/plain": [
       "'\\nInsight #1\\n\\nThe samples has a large portion of retired folks who have never went to college.\\n'"
      ]
     },
     "execution_count": 20,
     "metadata": {},
     "output_type": "execute_result"
    }
   ],
   "source": [
    "'''\n",
    "Insight #1\n",
    "\n",
    "The samples has a large portion of retired folks who have never went to college.\n",
    "'''"
   ]
  },
  {
   "cell_type": "code",
   "execution_count": 21,
   "metadata": {
    "collapsed": false
   },
   "outputs": [
    {
     "data": {
      "text/plain": [
       "<matplotlib.axes.AxesSubplot at 0xa7c5b22c>"
      ]
     },
     "execution_count": 21,
     "metadata": {},
     "output_type": "execute_result"
    },
    {
     "data": {
      "image/png": "[encoded data removed]",
      "text/plain": [
       "<matplotlib.figure.Figure at 0xaa9ed46c>"
      ]
     },
     "metadata": {},
     "output_type": "display_data"
    }
   ],
   "source": [
    "sns.countplot(df_filled.marital)\n",
    "## Most folks are married (1). Some are divorced (3)."
   ]
  },
  {
   "cell_type": "code",
   "execution_count": 22,
   "metadata": {
    "collapsed": false
   },
   "outputs": [
    {
     "data": {
      "text/plain": [
       "<matplotlib.axes.AxesSubplot at 0xaa8922cc>"
      ]
     },
     "execution_count": 22,
     "metadata": {},
     "output_type": "execute_result"
    },
    {
     "data": {
      "image/png": "[encoded data removed]",
      "text/plain": [
       "<matplotlib.figure.Figure at 0xaaa03dac>"
      ]
     },
     "metadata": {},
     "output_type": "display_data"
    }
   ],
   "source": [
    "sns.countplot(df_filled.empstat)"
   ]
  },
  {
   "cell_type": "code",
   "execution_count": 23,
   "metadata": {
    "collapsed": false
   },
   "outputs": [
    {
     "data": {
      "text/plain": [
       "<matplotlib.axes.AxesSubplot at 0xaa86b74c>"
      ]
     },
     "execution_count": 23,
     "metadata": {},
     "output_type": "execute_result"
    },
    {
     "data": {
      "image/png": "[encoded data removed]",
      "text/plain": [
       "<matplotlib.figure.Figure at 0xaa8f186c>"
      ]
     },
     "metadata": {},
     "output_type": "display_data"
    }
   ],
   "source": [
    "sns.countplot(df_filled.emptype)\n",
    "## most work for private companies (1) or are govt employee (2)"
   ]
  },
  {
   "cell_type": "code",
   "execution_count": 24,
   "metadata": {
    "collapsed": false
   },
   "outputs": [
    {
     "data": {
      "text/plain": [
       "Index([u'newid', u'age', u'educatio', u'race', u'sex', u'weeksin', u'emplcont',\n",
       "       u'incoll', u'nonwork', u'marital', u'empstat', u'emptype', u'hrswkd',\n",
       "       u'wkswkd', u'occup', u'fedtax', u'gvpremia', u'pripemia', u'rrpremia',\n",
       "       u'statax', u'farminc', u'irakeogh', u'fica', u'businc', u'wage',\n",
       "       u'socbens', u'ssi', u'lag_fedtax', u'lag_gvpremia', u'lag_pripemia',\n",
       "       u'lag_rrpremia', u'lag_statax', u'lag_farminc', u'lag_irakeogh',\n",
       "       u'lag_fica', u'lag_businc', u'lag_wage', u'lag_socbens', u'lag_ssi',\n",
       "       u'file', u'blsurbn', u'region', u'cutenur', u'govhous', u'pubhous',\n",
       "       u'repstat', u'srepstat', u'totwt', u'adjwt', u'numearn', u'numauto',\n",
       "       u'vehq', u'membcnt', u'wages', u'bus', u'farm', u'rents', u'div',\n",
       "       u'interest', u'pension', u'socsec', u'unemp', u'workcomp', u'welfare',\n",
       "       u'scholar', u'foodstmp', u'sspremia', u'pproptax', u'othtax', u'nontax',\n",
       "       u'foodhome', u'foodout', u'foodwork', u'tobacco', u'alcohol',\n",
       "       u'niteclub', u'clothes', u'tailors', u'jewelry', u'toiletry',\n",
       "       u'hlthbeau', u'renthome', u'rentothr', u'furnish', u'housuppl',\n",
       "       u'elect', u'gas', u'water', u'homefuel', u'telephon', u'servants',\n",
       "       u'drugs', u'orthopd', u'doctors', u'hospital', u'nurshome', u'helthins',\n",
       "       u'busiserv', u'lifeins', u'autos'],\n",
       "      dtype='object')"
      ]
     },
     "execution_count": 24,
     "metadata": {},
     "output_type": "execute_result"
    }
   ],
   "source": [
    "df_filled.columns[:100]"
   ]
  },
  {
   "cell_type": "code",
   "execution_count": null,
   "metadata": {
    "collapsed": true
   },
   "outputs": [],
   "source": []
  }
 ],
 "metadata": {
  "kernelspec": {
   "display_name": "Python 2",
   "language": "python",
   "name": "python2"
  },
  "language_info": {
   "codemirror_mode": {
    "name": "ipython",
    "version": 2
   },
   "file_extension": ".py",
   "mimetype": "text/x-python",
   "name": "python",
   "nbconvert_exporter": "python",
   "pygments_lexer": "ipython2",
   "version": "2.7.6"
  }
 },
 "nbformat": 4,
 "nbformat_minor": 0
}
