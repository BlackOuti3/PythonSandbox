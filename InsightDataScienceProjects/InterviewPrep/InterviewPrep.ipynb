{
 "cells": [
  {
   "cell_type": "code",
   "execution_count": 295,
   "metadata": {
    "collapsed": true
   },
   "outputs": [],
   "source": [
    "# push(x) -- Push element x to the back of queue.\n",
    "# pop() -- Removes the element from in front of queue.\n",
    "# peek() -- Get the front element.\n",
    "# empty() -- Return whether the queue is empty.\n",
    "\n",
    "class Queue(object):\n",
    "    def __init__(self):\n",
    "        \"\"\"\n",
    "        initialize your data structure here.\n",
    "        \"\"\"\n",
    "        self.A, self.B = [], []\n",
    "\n",
    "    def push(self, x):\n",
    "        \"\"\"\n",
    "        :type x: int\n",
    "        :rtype: nothing\n",
    "        \"\"\"\n",
    "        self.A.append(x)\n",
    "\n",
    "    def pop(self):\n",
    "        \"\"\"\n",
    "        :rtype: nothing\n",
    "        \"\"\"\n",
    "        self.peek()\n",
    "        self.B.pop()\n",
    "\n",
    "    def peek(self):\n",
    "        \"\"\"\n",
    "        :rtype: int\n",
    "        \"\"\"\n",
    "        if not self.B:\n",
    "            while self.A:\n",
    "                self.B.append(self.A.pop())\n",
    "        return self.B[-1]\n",
    "        \n",
    "\n",
    "    def empty(self):\n",
    "        \"\"\"\n",
    "        :rtype: bool\n",
    "        \"\"\"\n",
    "        return not self.A and not self.B"
   ]
  },
  {
   "cell_type": "code",
   "execution_count": 296,
   "metadata": {
    "collapsed": true
   },
   "outputs": [],
   "source": [
    "aqueue = Queue()"
   ]
  },
  {
   "cell_type": "code",
   "execution_count": 297,
   "metadata": {
    "collapsed": false
   },
   "outputs": [
    {
     "data": {
      "text/plain": [
       "True"
      ]
     },
     "execution_count": 297,
     "metadata": {},
     "output_type": "execute_result"
    }
   ],
   "source": [
    "aqueue.empty()"
   ]
  },
  {
   "cell_type": "code",
   "execution_count": 298,
   "metadata": {
    "collapsed": true
   },
   "outputs": [],
   "source": [
    "aqueue.push(1)\n",
    "aqueue.push(2)\n",
    "aqueue.push(3)"
   ]
  },
  {
   "cell_type": "code",
   "execution_count": 299,
   "metadata": {
    "collapsed": false
   },
   "outputs": [
    {
     "data": {
      "text/plain": [
       "1"
      ]
     },
     "execution_count": 299,
     "metadata": {},
     "output_type": "execute_result"
    }
   ],
   "source": [
    "aqueue.peek()"
   ]
  },
  {
   "cell_type": "code",
   "execution_count": 300,
   "metadata": {
    "collapsed": true
   },
   "outputs": [],
   "source": [
    "aqueue.pop()"
   ]
  },
  {
   "cell_type": "code",
   "execution_count": 301,
   "metadata": {
    "collapsed": false
   },
   "outputs": [
    {
     "data": {
      "text/plain": [
       "2"
      ]
     },
     "execution_count": 301,
     "metadata": {},
     "output_type": "execute_result"
    }
   ],
   "source": [
    "aqueue.peek()"
   ]
  },
  {
   "cell_type": "code",
   "execution_count": 302,
   "metadata": {
    "collapsed": true
   },
   "outputs": [],
   "source": [
    "x = 123321"
   ]
  },
  {
   "cell_type": "code",
   "execution_count": 303,
   "metadata": {
    "collapsed": false
   },
   "outputs": [],
   "source": [
    "    def isPalindrome(x):\n",
    "        \"\"\"\n",
    "        :type x: int\n",
    "        :rtype: bool\n",
    "        \"\"\"\n",
    "        for i in range(len(str(x))):\n",
    "            lhs,rhs = i, len(str(x))-1-i\n",
    "            if lhs>rhs:\n",
    "                break\n",
    "            else:\n",
    "                if str(x)[lhs] != str(x)[rhs]:\n",
    "                    return False\n",
    "        return True"
   ]
  },
  {
   "cell_type": "code",
   "execution_count": 304,
   "metadata": {
    "collapsed": false
   },
   "outputs": [
    {
     "data": {
      "text/plain": [
       "True"
      ]
     },
     "execution_count": 304,
     "metadata": {},
     "output_type": "execute_result"
    }
   ],
   "source": [
    "isPalindrome(x)"
   ]
  },
  {
   "cell_type": "code",
   "execution_count": 305,
   "metadata": {
    "collapsed": false
   },
   "outputs": [
    {
     "data": {
      "text/plain": [
       "1"
      ]
     },
     "execution_count": 305,
     "metadata": {},
     "output_type": "execute_result"
    }
   ],
   "source": [
    "12/10"
   ]
  },
  {
   "cell_type": "code",
   "execution_count": 306,
   "metadata": {
    "collapsed": true
   },
   "outputs": [],
   "source": [
    "x = 123456"
   ]
  },
  {
   "cell_type": "code",
   "execution_count": 307,
   "metadata": {
    "collapsed": false
   },
   "outputs": [
    {
     "data": {
      "text/plain": [
       "['123456']"
      ]
     },
     "execution_count": 307,
     "metadata": {},
     "output_type": "execute_result"
    }
   ],
   "source": [
    "str(x).split()"
   ]
  },
  {
   "cell_type": "code",
   "execution_count": 308,
   "metadata": {
    "collapsed": true
   },
   "outputs": [],
   "source": [
    "import sys\n",
    "\n",
    "\n",
    "d1,m1,y1 = '9 6 2015'.strip().split(' ')\n",
    "d1,m1,y1 = [int(d1),int(m1),int(y1)]\n",
    "d2,m2,y2 = '6 6 2015'.strip().split(' ')\n",
    "d2,m2,y2 = [int(d2),int(m2),int(y2)]"
   ]
  },
  {
   "cell_type": "code",
   "execution_count": 309,
   "metadata": {
    "collapsed": false
   },
   "outputs": [
    {
     "data": {
      "text/plain": [
       "9"
      ]
     },
     "execution_count": 309,
     "metadata": {},
     "output_type": "execute_result"
    }
   ],
   "source": [
    "d1"
   ]
  },
  {
   "cell_type": "code",
   "execution_count": 310,
   "metadata": {
    "collapsed": false
   },
   "outputs": [],
   "source": [
    "#!/bin/python\n",
    "\n",
    "import sys\n",
    "\n",
    "A = '1 2 3 4 10 11'\n",
    "B = '6'\n",
    "n = int(B.strip())\n",
    "arr = map(int,A.strip().split(' '))\n",
    "\n",
    "summation = 0\n",
    "for num in arr:\n",
    "    summation +=num"
   ]
  },
  {
   "cell_type": "code",
   "execution_count": 311,
   "metadata": {
    "collapsed": false
   },
   "outputs": [
    {
     "data": {
      "text/plain": [
       "31"
      ]
     },
     "execution_count": 311,
     "metadata": {},
     "output_type": "execute_result"
    }
   ],
   "source": [
    "summation"
   ]
  },
  {
   "cell_type": "code",
   "execution_count": 312,
   "metadata": {
    "collapsed": false
   },
   "outputs": [
    {
     "data": {
      "text/plain": [
       "[11, 2, 4]"
      ]
     },
     "execution_count": 312,
     "metadata": {},
     "output_type": "execute_result"
    }
   ],
   "source": [
    "map(int,'11 2 4'.strip().split(' '))"
   ]
  },
  {
   "cell_type": "code",
   "execution_count": 313,
   "metadata": {
    "collapsed": true
   },
   "outputs": [],
   "source": [
    "A = []\n",
    "A.append(map(int,'11 2 4'.strip().split(' ')))\n",
    "A.append(map(int,'4 5 6'.strip().split(' ')))\n",
    "A.append(map(int,'10 8 -12'.strip().split(' ')))"
   ]
  },
  {
   "cell_type": "code",
   "execution_count": 314,
   "metadata": {
    "collapsed": false
   },
   "outputs": [
    {
     "data": {
      "text/plain": [
       "[]"
      ]
     },
     "execution_count": 314,
     "metadata": {},
     "output_type": "execute_result"
    }
   ],
   "source": [
    "[a for a in A if a==0]"
   ]
  },
  {
   "cell_type": "code",
   "execution_count": 315,
   "metadata": {
    "collapsed": false
   },
   "outputs": [
    {
     "ename": "TypeError",
     "evalue": "'int' object has no attribute '__getitem__'",
     "output_type": "error",
     "traceback": [
      "\u001b[1;31m---------------------------------------------------------------------------\u001b[0m",
      "\u001b[1;31mTypeError\u001b[0m                                 Traceback (most recent call last)",
      "\u001b[1;32m<ipython-input-315-714c98b93fcd>\u001b[0m in \u001b[0;36m<module>\u001b[1;34m()\u001b[0m\n\u001b[1;32m----> 1\u001b[1;33m \u001b[0ma\u001b[0m\u001b[1;33m[\u001b[0m\u001b[1;36m0\u001b[0m\u001b[1;33m]\u001b[0m\u001b[1;33m[\u001b[0m\u001b[1;36m0\u001b[0m\u001b[1;33m]\u001b[0m\u001b[1;33m\u001b[0m\u001b[0m\n\u001b[0m",
      "\u001b[1;31mTypeError\u001b[0m: 'int' object has no attribute '__getitem__'"
     ]
    }
   ],
   "source": [
    "a[0][0]"
   ]
  },
  {
   "cell_type": "code",
   "execution_count": null,
   "metadata": {
    "collapsed": true
   },
   "outputs": [],
   "source": [
    "n = 3\n",
    "a = []\n",
    "a.append(map(int,'11 2 4'.strip().split(' ')))\n",
    "a.append(map(int,'4 5 6'.strip().split(' ')))\n",
    "a.append(map(int,'10 8 -12'.strip().split(' ')))"
   ]
  },
  {
   "cell_type": "code",
   "execution_count": null,
   "metadata": {
    "collapsed": false
   },
   "outputs": [],
   "source": [
    "a[0][2]"
   ]
  },
  {
   "cell_type": "code",
   "execution_count": null,
   "metadata": {
    "collapsed": false
   },
   "outputs": [],
   "source": [
    "primary_sum = 0\n",
    "secondary_sum = 0\n",
    "\n",
    "irow,jcol=0,n-1\n",
    "while irow < n:\n",
    "    secondary_sum += a[irow][jcol]\n",
    "    primary_sum += a[irow][irow]\n",
    "    irow+=1\n",
    "    jcol-=1\n",
    "\n",
    "print abs(secondary_sum-primary_sum)"
   ]
  },
  {
   "cell_type": "code",
   "execution_count": null,
   "metadata": {
    "collapsed": false
   },
   "outputs": [],
   "source": [
    "'#'*10"
   ]
  },
  {
   "cell_type": "code",
   "execution_count": null,
   "metadata": {
    "collapsed": false
   },
   "outputs": [],
   "source": [
    "n = int('6'.strip())\n",
    "for i in xrange(0,n):\n",
    "    print (' '*(n-i)+'#'*(i+1))"
   ]
  },
  {
   "cell_type": "code",
   "execution_count": null,
   "metadata": {
    "collapsed": false
   },
   "outputs": [],
   "source": [
    "time = '12:00:00AM'.strip()\n",
    "\n",
    "isPM = time.endswith('PM')\n",
    "H,M,S = map(int,time[:-2].split(':'))\n",
    "\n",
    "if isPM and H<12:\n",
    "    print('%02d:%02d:%02d' % (H+12,M,S))\n",
    "elif H == 12 and not isPM:\n",
    "    print('%02d:%02d:%02d' % (0, M, S))\n",
    "else:\n",
    "    print('%02d:%02d:%02d' % (H, M, S)) "
   ]
  },
  {
   "cell_type": "code",
   "execution_count": null,
   "metadata": {
    "collapsed": true
   },
   "outputs": [],
   "source": [
    "input = 'zzzyz'"
   ]
  },
  {
   "cell_type": "code",
   "execution_count": null,
   "metadata": {
    "collapsed": false
   },
   "outputs": [],
   "source": [
    "input_sorted = sorted(input)"
   ]
  },
  {
   "cell_type": "code",
   "execution_count": null,
   "metadata": {
    "collapsed": true
   },
   "outputs": [],
   "source": [
    "import random"
   ]
  },
  {
   "cell_type": "code",
   "execution_count": null,
   "metadata": {
    "collapsed": false
   },
   "outputs": [],
   "source": [
    "random.random()"
   ]
  },
  {
   "cell_type": "code",
   "execution_count": null,
   "metadata": {
    "collapsed": false
   },
   "outputs": [],
   "source": [
    "## Generate binomial distribution\n",
    "def bernoulli(p):\n",
    "    return 1 if random.random() < p else 0"
   ]
  },
  {
   "cell_type": "code",
   "execution_count": null,
   "metadata": {
    "collapsed": false
   },
   "outputs": [],
   "source": [
    "def binomial(n,p):\n",
    "    return sum(bernoulli(p) for _ in range(n))"
   ]
  },
  {
   "cell_type": "code",
   "execution_count": null,
   "metadata": {
    "collapsed": false
   },
   "outputs": [],
   "source": [
    "binomial(100,0.5)"
   ]
  },
  {
   "cell_type": "code",
   "execution_count": null,
   "metadata": {
    "collapsed": false
   },
   "outputs": [],
   "source": [
    "data = [binomial(100,0.5) for _ in range(10000)]"
   ]
  },
  {
   "cell_type": "code",
   "execution_count": null,
   "metadata": {
    "collapsed": true
   },
   "outputs": [],
   "source": [
    "import seaborn as sns"
   ]
  },
  {
   "cell_type": "code",
   "execution_count": null,
   "metadata": {
    "collapsed": false
   },
   "outputs": [],
   "source": [
    "import matplotlib.pyplot as plt\n",
    "%matplotlib inline"
   ]
  },
  {
   "cell_type": "code",
   "execution_count": null,
   "metadata": {
    "collapsed": false
   },
   "outputs": [],
   "source": [
    "sns.distplot(data, kde=False)"
   ]
  },
  {
   "cell_type": "code",
   "execution_count": null,
   "metadata": {
    "collapsed": true
   },
   "outputs": [],
   "source": [
    "import numpy as np\n",
    "data = [np.random.binomial(100,0.5) for _ in range(10000)]"
   ]
  },
  {
   "cell_type": "code",
   "execution_count": null,
   "metadata": {
    "collapsed": false
   },
   "outputs": [],
   "source": [
    "sns.distplot(data,kde=False)"
   ]
  },
  {
   "cell_type": "code",
   "execution_count": null,
   "metadata": {
    "collapsed": false
   },
   "outputs": [],
   "source": [
    "x = 6\n",
    "print '%.2f' % x"
   ]
  },
  {
   "cell_type": "code",
   "execution_count": null,
   "metadata": {
    "collapsed": false
   },
   "outputs": [],
   "source": [
    "n = 114108089\n",
    "len(str(n))"
   ]
  },
  {
   "cell_type": "code",
   "execution_count": null,
   "metadata": {
    "collapsed": false
   },
   "outputs": [],
   "source": [
    "range(1,10)\n",
    "digits = list(map(int,str(n)))\n",
    "digits\n",
    "len(digits)"
   ]
  },
  {
   "cell_type": "code",
   "execution_count": null,
   "metadata": {
    "collapsed": false
   },
   "outputs": [],
   "source": [
    "t = int(raw_input().strip())\n",
    "for a0 in xrange(t):\n",
    "    n = int(raw_input().strip())\n",
    "    digits = list(map(int,str(n)))\n",
    "    N = len(digits)\n",
    "    \n",
    "    print sum([digits.count(k) for k in range(1,10) if k in digits and N % k == 0])"
   ]
  },
  {
   "cell_type": "code",
   "execution_count": null,
   "metadata": {
    "collapsed": false
   },
   "outputs": [],
   "source": [
    "2 % 3"
   ]
  },
  {
   "cell_type": "code",
   "execution_count": null,
   "metadata": {
    "collapsed": false
   },
   "outputs": [],
   "source": [
    "t = int(raw_input().strip())\n",
    "for a0 in xrange(t):\n",
    "    n = int(raw_input().strip())\n",
    "    height = 1\n",
    "    for cycle in range(1,n+1):\n",
    "        if cycle % 2 == 0:\n",
    "            height += 1\n",
    "        else:\n",
    "            height *=2\n",
    "    print height"
   ]
  },
  {
   "cell_type": "code",
   "execution_count": null,
   "metadata": {
    "collapsed": false
   },
   "outputs": [],
   "source": [
    "string = raw_input()\n",
    " \n",
    "found = False\n",
    "# Write the code to find the required palindrome and then assign the variable 'found' a value of True or False\n",
    "\n",
    "num_letters = len(string)\n",
    "letter_dict = {}\n",
    "for letter in string:\n",
    "    if letter in letter_dict.keys():\n",
    "        del letter_dict[letter]\n",
    "    else:\n",
    "        letter_dict[letter] = 1\n",
    "\n",
    "if len(letter_dict.keys()) == 0 and num_letters % 2 == 0:\n",
    "    found = True\n",
    "elif len(letter_dict.keys()) == 1 and num_letters % 2 != 0:\n",
    "    found = True\n",
    "else:\n",
    "    found = False\n",
    "    \n",
    "if not found:\n",
    "    print(\"NO\")\n",
    "else:\n",
    "    print(\"YES\")"
   ]
  },
  {
   "cell_type": "code",
   "execution_count": null,
   "metadata": {
    "collapsed": false
   },
   "outputs": [],
   "source": [
    "import collections\n",
    "s = 'racecar'\n",
    "c = collections.Counter(s)"
   ]
  },
  {
   "cell_type": "code",
   "execution_count": null,
   "metadata": {
    "collapsed": false
   },
   "outputs": [],
   "source": [
    "c"
   ]
  },
  {
   "cell_type": "code",
   "execution_count": null,
   "metadata": {
    "collapsed": true
   },
   "outputs": [],
   "source": [
    "parity = (v%2 for v in c.values())"
   ]
  },
  {
   "cell_type": "code",
   "execution_count": null,
   "metadata": {
    "collapsed": false
   },
   "outputs": [],
   "source": [
    "parity_count = collections.Counter(parity)"
   ]
  },
  {
   "cell_type": "code",
   "execution_count": null,
   "metadata": {
    "collapsed": false
   },
   "outputs": [],
   "source": [
    "parity_count"
   ]
  },
  {
   "cell_type": "code",
   "execution_count": null,
   "metadata": {
    "collapsed": false
   },
   "outputs": [],
   "source": [
    "if 1 in parity_count:\n",
    "    print 'NO' if parity_count[1]>1 else 'YES'\n",
    "else:\n",
    "    print 'YES'"
   ]
  },
  {
   "cell_type": "code",
   "execution_count": null,
   "metadata": {
    "collapsed": true
   },
   "outputs": [],
   "source": [
    "s = 'test'.split()"
   ]
  },
  {
   "cell_type": "code",
   "execution_count": null,
   "metadata": {
    "collapsed": false
   },
   "outputs": [],
   "source": [
    "s"
   ]
  },
  {
   "cell_type": "code",
   "execution_count": null,
   "metadata": {
    "collapsed": true
   },
   "outputs": [],
   "source": [
    "s = 'test'"
   ]
  },
  {
   "cell_type": "code",
   "execution_count": null,
   "metadata": {
    "collapsed": false
   },
   "outputs": [],
   "source": [
    "s.strip()"
   ]
  },
  {
   "cell_type": "code",
   "execution_count": null,
   "metadata": {
    "collapsed": false
   },
   "outputs": [],
   "source": [
    "set(s)"
   ]
  },
  {
   "cell_type": "code",
   "execution_count": null,
   "metadata": {
    "collapsed": false
   },
   "outputs": [],
   "source": [
    "n = int(raw_input().strip())\n",
    "\n",
    "## Iterate over n test cases\n",
    "for test_case in xrange(n):\n",
    "    A = set(raw_input().strip())\n",
    "    B = set(raw_input().strip())\n",
    "    if A.intersection(B):\n",
    "        print 'YES'\n",
    "    else:\n",
    "        print 'NO'"
   ]
  },
  {
   "cell_type": "code",
   "execution_count": null,
   "metadata": {
    "collapsed": false
   },
   "outputs": [],
   "source": [
    "A = set([1,2,3]); B = set([6,4,5])"
   ]
  },
  {
   "cell_type": "code",
   "execution_count": null,
   "metadata": {
    "collapsed": false
   },
   "outputs": [],
   "source": [
    "A.intersection(B)"
   ]
  },
  {
   "cell_type": "code",
   "execution_count": null,
   "metadata": {
    "collapsed": false
   },
   "outputs": [],
   "source": [
    "n = int(raw_input().strip())\n",
    "\n",
    "for t in range(n):\n",
    "    a = raw_input().strip()\n",
    "    ana_pairs = 0\n",
    "    stack = []\n",
    "    for i in range(len(a)):\n",
    "        for j in range(len(a)):\n",
    "            stack.append(a[i]+a[j])  \n",
    "    for element in stack:\n",
    "        for other_element in stack:\n",
    "            if set(element)==set(other_element):\n",
    "                ana_pairs +=1\n",
    "    print ana_pairs"
   ]
  },
  {
   "cell_type": "code",
   "execution_count": null,
   "metadata": {
    "collapsed": false
   },
   "outputs": [],
   "source": [
    "n = int(raw_input().strip())\n",
    "\n",
    "for t in range(n):\n",
    "    substrings = []\n",
    "    S = raw_input().strip()\n",
    "    for i in range(1,len(S)):\n",
    "        for j in range(len(S)-i+1):\n",
    "            substrings.append(''.join(sorted(S[j:j+i])))\n",
    "    substrings = collections.Counter(substrings)\n",
    "\n",
    "    print sum(v*(v-1)//2 for v in substrings.values())"
   ]
  },
  {
   "cell_type": "code",
   "execution_count": null,
   "metadata": {
    "collapsed": false
   },
   "outputs": [],
   "source": [
    "substrings"
   ]
  },
  {
   "cell_type": "code",
   "execution_count": null,
   "metadata": {
    "collapsed": false
   },
   "outputs": [],
   "source": [
    "sum(v * (v - 1) // 2 for v in substrings.values())"
   ]
  },
  {
   "cell_type": "code",
   "execution_count": null,
   "metadata": {
    "collapsed": false
   },
   "outputs": [],
   "source": [
    "S = 'dig'\n",
    "c=4\n",
    "S[:c]+S[c+1:]"
   ]
  },
  {
   "cell_type": "code",
   "execution_count": null,
   "metadata": {
    "collapsed": false
   },
   "outputs": [],
   "source": [
    "def isPalindrome(S):\n",
    "    lhs,rhs = 0,len(S)-1\n",
    "    while lhs < rhs:\n",
    "        while lhs<rhs and not S[lhs].isalnum():\n",
    "            lhs +=1\n",
    "        while lhs<rhs and not S[rhs].isalnum():\n",
    "            rhs-=1\n",
    "        if S[lhs].lower() != S[rhs].lower():\n",
    "            return False\n",
    "        lhs+=1\n",
    "        rhs-=1\n",
    "    return True\n",
    "\n",
    "n = int(raw_input())\n",
    "\n",
    "for t in range(n):\n",
    "    S = raw_input().strip()\n",
    "    foundPalindrome = False\n",
    "    if isPalindrome(S):\n",
    "        print (-1)\n",
    "    else:\n",
    "        for c in range(len(S)):\n",
    "            temp = S[:c]+S[c+1:]\n",
    "            print temp\n",
    "            if isPalindrome(temp):\n",
    "                foundPalindrome = True\n",
    "                print c\n",
    "                break\n",
    "        if not foundPalindrome:\n",
    "            print (-1)"
   ]
  },
  {
   "cell_type": "code",
   "execution_count": null,
   "metadata": {
    "collapsed": false
   },
   "outputs": [],
   "source": [
    "isPalindrome('racecar')"
   ]
  },
  {
   "cell_type": "code",
   "execution_count": null,
   "metadata": {
    "collapsed": false
   },
   "outputs": [],
   "source": [
    "''.isalnum()"
   ]
  },
  {
   "cell_type": "code",
   "execution_count": null,
   "metadata": {
    "collapsed": false
   },
   "outputs": [],
   "source": [
    "n = int(raw_input())\n",
    "\n",
    "for t in range(n):\n",
    "    S = raw_input().strip()\n",
    "    if S == S[::-1]:\n",
    "        print (-1)\n",
    "    else:\n",
    "        for c in range(len(S)//2):\n",
    "            if S[c] != S[-c-1]:\n",
    "                temp = S[:c]+S[c+1:]\n",
    "                if temp == temp[::-1]:\n",
    "                    print c\n",
    "                    break\n",
    "                else:\n",
    "                    print (len(S)-c-1)\n",
    "                    break"
   ]
  },
  {
   "cell_type": "code",
   "execution_count": null,
   "metadata": {
    "collapsed": false
   },
   "outputs": [],
   "source": [
    "def insertionSort(ar):\n",
    "    if len(ar)==1:\n",
    "        print ' '.join(str(n) for n in ar)\n",
    "        return ar\n",
    "    \n",
    "    ref = ar[-1]\n",
    "    for i in reversed(range(len(ar)-1)):\n",
    "        if ref < ar[i]:\n",
    "            ar[i+1] = ar[i]\n",
    "            print ' '.join(str(n) for n in ar)\n",
    "            if i == 0:\n",
    "                ar[0] = ref\n",
    "                print ' '.join(str(n) for n in ar)\n",
    "        else:\n",
    "            ar[i+1] = ref\n",
    "            print ' '.join(str(n) for n in ar)\n",
    "            break\n",
    "    return ar\n",
    "\n",
    "m = input()\n",
    "ar = [int(i) for i in raw_input().strip().split()]\n",
    "insertionSort(ar)"
   ]
  },
  {
   "cell_type": "code",
   "execution_count": null,
   "metadata": {
    "collapsed": true
   },
   "outputs": [],
   "source": [
    "ar = [2,4,6,8,3]"
   ]
  },
  {
   "cell_type": "code",
   "execution_count": null,
   "metadata": {
    "collapsed": false
   },
   "outputs": [],
   "source": [
    "for i in reversed(range(len(ar))): print i"
   ]
  },
  {
   "cell_type": "code",
   "execution_count": null,
   "metadata": {
    "collapsed": false
   },
   "outputs": [],
   "source": [
    "ar = [1,4,3,5,6,2]\n",
    "for j in range(1,len(ar)):\n",
    "    print j\n",
    "    "
   ]
  },
  {
   "cell_type": "code",
   "execution_count": null,
   "metadata": {
    "collapsed": false
   },
   "outputs": [],
   "source": [
    "def insertionSort(ar):\n",
    "    if len(ar)==1:\n",
    "        print ' '.join(str(n) for n in ar)\n",
    "        return ar\n",
    "    \n",
    "    for j in range(1,len(ar)):\n",
    "        for i in reversed(range(j)):\n",
    "            if ar[i+1] < ar[i]:\n",
    "                ## reverse them\n",
    "                ar[i], ar[i+1] = ar[i+1], ar[i]\n",
    "            \n",
    "            else:\n",
    "                break\n",
    "    print ' '.join(str(n) for n in ar)\n",
    "    return ar\n",
    "\n",
    "m = input()\n",
    "ar = [int(i) for i in raw_input().strip().split()]\n",
    "insertionSort(ar)"
   ]
  },
  {
   "cell_type": "code",
   "execution_count": null,
   "metadata": {
    "collapsed": false
   },
   "outputs": [],
   "source": [
    "'''\n",
    "2\n",
    "4\n",
    "5\n",
    "1 4 5 3 2\n",
    "'''\n",
    "n = int(raw_input().strip())\n",
    "for t in range(n):\n",
    "    M = int(raw_input().strip())\n",
    "    N = int(raw_input().strip())\n",
    "    \n",
    "    price_list = map(int,raw_input().strip().split())\n",
    "    \n",
    "    #for i in range(len(price_list)):\n",
    "    #    for j in range(i+1,len(price_list)):\n",
    "    #        if price_list[i]+price_list[j] == M:\n",
    "    #            print i+1, j+1\n",
    "                \n",
    "    for i, c in enumerate(price_list[:-1]):\n",
    "        for j in range(i + 1, len(price_list)):\n",
    "            if price_list[j] == M - c:\n",
    "                print(i + 1, j + 1)\n",
    "                break\n"
   ]
  },
  {
   "cell_type": "code",
   "execution_count": null,
   "metadata": {
    "collapsed": false
   },
   "outputs": [],
   "source": [
    "price_list"
   ]
  },
  {
   "cell_type": "code",
   "execution_count": null,
   "metadata": {
    "collapsed": false
   },
   "outputs": [],
   "source": [
    "'''\n",
    "10\n",
    "203 204 205 206 207 208 203 204 205 206\n",
    "13\n",
    "203 204 204 205 206 207 205 208 203 206 205 206 204\n",
    "'''\n",
    "n_A = int(raw_input().strip())\n",
    "A = map(int,raw_input().strip().split())\n",
    "n_B = int(raw_input().strip())\n",
    "B = map(int,raw_input().strip().split())\n",
    "\n",
    "import collections\n",
    "counter_A = collections.Counter(A)\n",
    "counter_B = collections.Counter(B)\n",
    "missing = []\n",
    "for i in counter_B.keys():\n",
    "    if i in counter_A.keys():\n",
    "        if counter_B[i] - counter_A[i] != 0:\n",
    "            missing.append(i)\n",
    "    else:\n",
    "        missing.append(i) \n",
    "print ' '.join(str(a) for a in sorted(missing))"
   ]
  },
  {
   "cell_type": "code",
   "execution_count": null,
   "metadata": {
    "collapsed": false
   },
   "outputs": [],
   "source": [
    "counter_A"
   ]
  },
  {
   "cell_type": "code",
   "execution_count": null,
   "metadata": {
    "collapsed": false
   },
   "outputs": [],
   "source": [
    "counter_B"
   ]
  },
  {
   "cell_type": "code",
   "execution_count": null,
   "metadata": {
    "collapsed": false
   },
   "outputs": [],
   "source": [
    "n_A = int(raw_input().strip())\n",
    "A = map(int,raw_input().strip().split())\n",
    "n_B = int(raw_input().strip())\n",
    "B = map(int,raw_input().strip().split())\n",
    "counter = {}\n",
    "for b in B:\n",
    "    if not b in counter.keys():\n",
    "        counter[b] = 0\n",
    "    counter[b]+=1\n",
    "    \n",
    "for a in A:\n",
    "    counter[a]-=1\n",
    "    \n",
    "print ' '.join(str(i) for i in sorted(counter.keys()) if counter[i])"
   ]
  },
  {
   "cell_type": "code",
   "execution_count": null,
   "metadata": {
    "collapsed": false
   },
   "outputs": [],
   "source": [
    "counter"
   ]
  },
  {
   "cell_type": "code",
   "execution_count": null,
   "metadata": {
    "collapsed": false
   },
   "outputs": [],
   "source": [
    "## Maximum subarray\n",
    "'''\n",
    "2 \n",
    "4 \n",
    "1 2 3 4\n",
    "6\n",
    "2 -1 2 3 4 -5\n",
    "'''\n",
    "\n",
    "n = int(raw_input().strip())\n",
    "for t in range(n):\n",
    "    n_elements = int(raw_input().strip())\n",
    "    arr = map(int,raw_input().strip().split())\n",
    "    cont_max = 0\n",
    "    non_cont_max = 0\n",
    "    max_arr = max(arr)\n",
    "    if max_arr < 0:\n",
    "        print max_arr, max_arr\n",
    "    else:\n",
    "        non_cont_max = sum(filter(lambda x:x>0,arr))\n",
    "        current_sum = 0\n",
    "        for n in range(len(arr)):\n",
    "            current_sum += arr[n]\n",
    "            if current_sum < 0:\n",
    "                current_sum = 0\n",
    "            cont_max = max(current_sum, cont_max)\n",
    "        print cont_max, non_cont_max"
   ]
  },
  {
   "cell_type": "code",
   "execution_count": null,
   "metadata": {
    "collapsed": false
   },
   "outputs": [],
   "source": [
    "'''\n",
    "2 (test cases)\n",
    "4 2 (nodes, edges)\n",
    "1 2 (node1 --> node2)\n",
    "1 3 (node1-->node3)\n",
    "1 (starting node)\n",
    "'''\n",
    "INF = (1 << 31)\n",
    "UNIT_LENGTH = 6\n",
    "\n",
    "n = int(raw_input().strip())\n",
    "\n",
    "for _ in range(n):\n",
    "    nodes, edges = map(int,raw_input().strip().split())\n",
    "    node_matches = []\n",
    "    for edge in range(edges):\n",
    "        edge_src, edge_dest = map(int,raw_input().strip().split())\n",
    "        node_matches.append((edge_src,edge_dest))\n",
    "        node_matches.append((edge_dest,edge_src))\n",
    "                            \n",
    "    src = int(raw_input().strip())\n",
    "    \n",
    "    dist = [INF]*(nodes+1)\n",
    "    dist[src] = 0\n",
    "    for _ in range(nodes):\n",
    "        updated = False\n",
    "        for edge in node_matches:\n",
    "            edge_src, edge_dest = edge\n",
    "            #print edge, dist\n",
    "            if dist[edge_src] + UNIT_LENGTH < dist[edge_dest]:\n",
    "                updated = True\n",
    "                dist[edge_dest] = dist[edge_src] + UNIT_LENGTH\n",
    "        \n",
    "        if not updated:\n",
    "            break\n",
    "        \n",
    "    del dist[src]\n",
    "    del dist[0]\n",
    "    print ' '.join([str(i)  if i!=INF else '-1' for i in dist])\n",
    "        #for i in dist:\n",
    "        #    if i == INF:\n",
    "        #        output.append(-1)\n",
    "        #    else:\n",
    "        #        output.append(i)\n",
    "        #output = [str(i) for i in dist if i != INF else -1]\n",
    "        #print ' '.join([str(i) for i in dist if i != INF else -1])\n",
    "                \n",
    "    \n",
    "    "
   ]
  },
  {
   "cell_type": "code",
   "execution_count": null,
   "metadata": {
    "collapsed": false
   },
   "outputs": [],
   "source": [
    "for edge in node_matches: print edge"
   ]
  },
  {
   "cell_type": "code",
   "execution_count": null,
   "metadata": {
    "collapsed": false
   },
   "outputs": [],
   "source": [
    "output"
   ]
  },
  {
   "cell_type": "code",
   "execution_count": null,
   "metadata": {
    "collapsed": false
   },
   "outputs": [],
   "source": [
    "## Sherlock and the beast\n",
    "'''\n",
    "test cases\n",
    "digits in number\n",
    "4\n",
    "1\n",
    "3\n",
    "5\n",
    "11\n",
    "'''\n",
    "t = int(raw_input().strip())\n",
    "for _ in range(t):\n",
    "    n_digits = int(raw_input().strip())\n",
    "    value = []\n",
    "    #if n_digits < 3:\n",
    "    #    print -1\n",
    "    if n_digits % 3 == 0:\n",
    "        value = [5]*n_digits\n",
    "        print ''.join([str(v) for v in value])\n",
    "    elif n_digits % 5 == 0:\n",
    "        value = [3]*n_digits\n",
    "        print ''.join([str(v) for v in value])\n",
    "    else:\n",
    "        out = 0\n",
    "        for n in range(n_digits):\n",
    "            m = n_digits - n\n",
    "            if m%3 != 0 or n%5 != 0:\n",
    "                continue\n",
    "            value = [5]*m + [3]*n\n",
    "            current = ''.join([str(v) for v in value])\n",
    "            out = max(out,current)\n",
    "        \n",
    "    \n",
    "        if not value:\n",
    "            out = -1\n",
    "        print out\n",
    "    "
   ]
  },
  {
   "cell_type": "code",
   "execution_count": null,
   "metadata": {
    "collapsed": false
   },
   "outputs": [],
   "source": [
    "t = int(raw_input().strip())\n",
    "for _ in range(t):\n",
    "    n_digits = int(raw_input().strip())\n",
    "    fives, threes = 0,0\n",
    "    for n in range(n_digits+1):\n",
    "        m = n_digits - n\n",
    "        if n%5 == 0 and m%3 == 0:\n",
    "            fives = m\n",
    "            threes = n\n",
    "            break\n",
    "    if fives == 0 and threes == 0:\n",
    "        print -1\n",
    "    else:\n",
    "        print '5'*fives + '3'*threes\n",
    "            \n",
    "    "
   ]
  },
  {
   "cell_type": "code",
   "execution_count": null,
   "metadata": {
    "collapsed": false
   },
   "outputs": [],
   "source": [
    "## Sherlock and squares\n",
    "'''\n",
    "input:\n",
    "test cases\n",
    "sqint1, sqint2\n",
    "\n",
    "output:\n",
    "number of sq ints\n",
    "'''\n",
    "\n",
    "t = int(raw_input().strip())\n",
    "for _ in range(t):\n",
    "    A,B = map(int,raw_input().strip().split())\n",
    "\n",
    "    int_A = int(A**0.5)\n",
    "    int_B = int(B**0.5)\n",
    "    \n",
    "    num_sqs = int_B - int_A + (1 if int_A == A**0.5 else 0)\n",
    "    print num_sqs\n",
    "    "
   ]
  },
  {
   "cell_type": "code",
   "execution_count": null,
   "metadata": {
    "collapsed": false
   },
   "outputs": [],
   "source": [
    "import math; math.sqrt(8)"
   ]
  },
  {
   "cell_type": "code",
   "execution_count": null,
   "metadata": {
    "collapsed": false
   },
   "outputs": [],
   "source": [
    "int(5**0.5) == 5**0.5"
   ]
  },
  {
   "cell_type": "code",
   "execution_count": null,
   "metadata": {
    "collapsed": false
   },
   "outputs": [],
   "source": [
    "int(8**0.5)"
   ]
  },
  {
   "cell_type": "code",
   "execution_count": null,
   "metadata": {
    "collapsed": false
   },
   "outputs": [],
   "source": [
    "## Service Lane\n",
    "'''\n",
    "length of highway, test cases\n",
    "array of length of segments\n",
    "enter,exit\n",
    "8 5\n",
    "2 3 1 2 3 2 3 3\n",
    "0 3\n",
    "4 6\n",
    "6 7\n",
    "3 5\n",
    "0 7\n",
    "'''\n",
    "highway_length, t = map(int,raw_input().strip().split())\n",
    "service_widths = list(map(int,raw_input().strip().split()))\n",
    "\n",
    "for _ in range(t):\n",
    "    enter, exit = map(int,raw_input().strip().split())\n",
    "    vehicle = [True]*3\n",
    "    for segment in range(enter,exit+1):\n",
    "        if service_widths[segment] < 3:\n",
    "            vehicle[2] = False\n",
    "        if service_widths[segment] < 2:\n",
    "            vehicle[1] = False  \n",
    "        if service_widths[segment] < 1:\n",
    "            vehicle[0] = False\n",
    "    \n",
    "    print sum([1 if i==True else 0 for i in vehicle])"
   ]
  },
  {
   "cell_type": "code",
   "execution_count": null,
   "metadata": {
    "collapsed": false
   },
   "outputs": [],
   "source": [
    "highway_length, t = map(int,raw_input().strip().split())\n",
    "service_widths = list(map(int,raw_input().strip().split()))\n",
    "\n",
    "for _ in range(t):\n",
    "    enter, exit = map(int,raw_input().strip().split())\n",
    "    print min(service_widths[enter:exit+1])"
   ]
  },
  {
   "cell_type": "code",
   "execution_count": null,
   "metadata": {
    "collapsed": false
   },
   "outputs": [],
   "source": [
    "## Cut the sticks\n",
    "n_sticks = int(raw_input().strip())\n",
    "stick_lengths = map(int,raw_input().strip().split())\n",
    "\n",
    "while n_sticks > 0:\n",
    "    temp = []\n",
    "    print n_sticks\n",
    "    shorten_by = min(stick_lengths)\n",
    "    stick_lengths = [stick-shorten_by for stick in stick_lengths if stick-shorten_by > 0] \n",
    "    #for stick in stick_lengths:\n",
    "    #    if stick-shorten_by > 0:\n",
    "    #        temp.append(stick-shorten_by)\n",
    "    #stick_lengths = temp[:]\n",
    "    n_sticks = len(stick_lengths)"
   ]
  },
  {
   "cell_type": "code",
   "execution_count": null,
   "metadata": {
    "collapsed": false
   },
   "outputs": [],
   "source": [
    "## Chocolate Feast\n",
    "'''\n",
    "3 tests\n",
    "10 2 5 total $, cost, refund threshold\n",
    "12 4 4\n",
    "6 2 2\n",
    "'''\n",
    "t = int(raw_input().strip())\n",
    "for _ in range(t):\n",
    "    amount_in_pocket,cost_per_chocolate,redemption_threshold = map(int,raw_input().strip().split())\n",
    "    \n",
    "    total_chocolates = wrappers = amount_in_pocket // cost_per_chocolate\n",
    "    \n",
    "    while wrappers >= redemption_threshold:\n",
    "        total_chocolates += wrappers//redemption_threshold\n",
    "        wrappers = wrappers//redemption_threshold + wrappers % redemption_threshold\n",
    "    print total_chocolates"
   ]
  },
  {
   "cell_type": "code",
   "execution_count": null,
   "metadata": {
    "collapsed": false
   },
   "outputs": [],
   "source": [
    "## Caesar Cipher I\n",
    "character_length = int(raw_input().strip())\n",
    "decoded_string = raw_input().strip()\n",
    "cipher = int(raw_input().strip())\n",
    "coded_string = []\n",
    "cipher = cipher % 26\n",
    "for c in decoded_string:\n",
    "    coded_character = ord(c) + cipher\n",
    "    if c.isalpha():\n",
    "        if c.isupper():\n",
    "            if coded_character > ord('Z'):\n",
    "                coded_character = ord('A') + coded_character%ord('Z') - 1\n",
    "        else:\n",
    "            if coded_character > ord('z'):\n",
    "                coded_character = ord('a') + coded_character%ord('z') - 1\n",
    "                \n",
    "        coded_string.append(chr(coded_character))\n",
    "    else:\n",
    "        coded_string.append(c)\n",
    "print ''.join([c for c in coded_string])"
   ]
  },
  {
   "cell_type": "code",
   "execution_count": null,
   "metadata": {
    "collapsed": false
   },
   "outputs": [],
   "source": [
    "## Caesar Cipher II\n",
    "import string, sys\n",
    "\n",
    "character_length = int(raw_input().strip())\n",
    "decoded_string = raw_input().strip()\n",
    "K = int(raw_input().strip())\n",
    "K = K % 26\n",
    "\n",
    "chars = string.ascii_lowercase\n",
    "cipher = chars[K:] + chars[:K]\n",
    "\n",
    "print decoded_string.translate(string.maketrans(chars+chars.upper(), cipher+cipher.upper()))"
   ]
  },
  {
   "cell_type": "code",
   "execution_count": null,
   "metadata": {
    "collapsed": false
   },
   "outputs": [],
   "source": [
    "chars+chars.upper()"
   ]
  },
  {
   "cell_type": "code",
   "execution_count": null,
   "metadata": {
    "collapsed": false
   },
   "outputs": [],
   "source": [
    "cipher+cipher.upper()"
   ]
  },
  {
   "cell_type": "code",
   "execution_count": null,
   "metadata": {
    "collapsed": false
   },
   "outputs": [],
   "source": [
    "chr(66)"
   ]
  },
  {
   "cell_type": "code",
   "execution_count": null,
   "metadata": {
    "collapsed": false
   },
   "outputs": [],
   "source": [
    "import string\n",
    "chars = string.ascii_lowercase"
   ]
  },
  {
   "cell_type": "code",
   "execution_count": null,
   "metadata": {
    "collapsed": false
   },
   "outputs": [],
   "source": [
    "chars"
   ]
  },
  {
   "cell_type": "code",
   "execution_count": null,
   "metadata": {
    "collapsed": false
   },
   "outputs": [],
   "source": [
    "cipher = chars[2:] + chars[:2]"
   ]
  },
  {
   "cell_type": "code",
   "execution_count": null,
   "metadata": {
    "collapsed": false
   },
   "outputs": [],
   "source": [
    "chars + chars.upper()"
   ]
  },
  {
   "cell_type": "code",
   "execution_count": null,
   "metadata": {
    "collapsed": false
   },
   "outputs": [],
   "source": [
    "cipher + cipher.upper()"
   ]
  },
  {
   "cell_type": "code",
   "execution_count": null,
   "metadata": {
    "collapsed": false
   },
   "outputs": [],
   "source": [
    "S = 'middle-Outz'\n",
    "S.translate(string.maketrans(chars + chars.upper(), cipher + cipher.upper()))"
   ]
  },
  {
   "cell_type": "code",
   "execution_count": null,
   "metadata": {
    "collapsed": true
   },
   "outputs": [],
   "source": [
    "A = [['cat','moose','dog'],['song','bark']]"
   ]
  },
  {
   "cell_type": "code",
   "execution_count": null,
   "metadata": {
    "collapsed": false
   },
   "outputs": [],
   "source": [
    "for a in A:\n",
    "    a = sorted(a)\n",
    "    print a"
   ]
  },
  {
   "cell_type": "code",
   "execution_count": null,
   "metadata": {
    "collapsed": false
   },
   "outputs": [],
   "source": [
    "'''\n",
    "1 1 1 0 0 0\n",
    "0 1 0 0 0 0\n",
    "1 1 1 0 0 0\n",
    "0 0 2 4 4 0\n",
    "0 0 0 2 0 0\n",
    "0 0 1 2 4 0\n",
    "\n",
    "--> 16\n",
    "\n",
    "-1 -1 0 -9 -2 -2\n",
    "-2 -1 -6 -8 -2 -5\n",
    "-1 -1 -1 -2 -3 -4\n",
    "-1 -9 -2 -4 -4 -5\n",
    "-7 -3 -3 -2 -9 -9\n",
    "-1 -3 -1 -2 -4 -5\n",
    "\n",
    "--> -6\n",
    "'''\n",
    "arr = []\n",
    "for arr_i in xrange(6):\n",
    "    arr_temp = map(int,raw_input().strip().split(' '))\n",
    "    arr.append(arr_temp)\n",
    "\n",
    "\n",
    "hour_glass_sum = -99999\n",
    "for i in xrange(4):\n",
    "    for j in xrange(4):\n",
    "        current_sum = 0\n",
    "        for icol in xrange(i,i+3):\n",
    "            for irow in xrange(j,j+3):\n",
    "                if irow == j+1 and icol == i:\n",
    "                    continue\n",
    "                if irow == j+1 and icol == i+2:\n",
    "                    continue\n",
    "                \n",
    "                current_sum += arr[irow][icol] \n",
    "                \n",
    "        hour_glass_sum = max(current_sum, hour_glass_sum)\n",
    "print hour_glass_sum"
   ]
  },
  {
   "cell_type": "code",
   "execution_count": null,
   "metadata": {
    "collapsed": false
   },
   "outputs": [],
   "source": [
    "arr[0][0]"
   ]
  },
  {
   "cell_type": "code",
   "execution_count": null,
   "metadata": {
    "collapsed": false
   },
   "outputs": [],
   "source": [
    "arr[0][0]"
   ]
  },
  {
   "cell_type": "code",
   "execution_count": null,
   "metadata": {
    "collapsed": false
   },
   "outputs": [],
   "source": [
    "hour_glass_sum"
   ]
  },
  {
   "cell_type": "code",
   "execution_count": null,
   "metadata": {
    "collapsed": false
   },
   "outputs": [],
   "source": [
    "i,j"
   ]
  },
  {
   "cell_type": "code",
   "execution_count": null,
   "metadata": {
    "collapsed": true
   },
   "outputs": [],
   "source": []
  },
  {
   "cell_type": "code",
   "execution_count": null,
   "metadata": {
    "collapsed": false
   },
   "outputs": [],
   "source": [
    "import math\n",
    "p = 4/5.\n",
    "n = 4\n",
    "k = range(3,5)\n",
    "prob= []\n",
    "for success in k:\n",
    "    prob.append(math.factorial(n)/math.factorial(n-success)/math.factorial(success) * p**success * (1-p)**(n-success))\n",
    "\n",
    "    \n",
    "print '%.3f' % sum(prob)"
   ]
  },
  {
   "cell_type": "code",
   "execution_count": null,
   "metadata": {
    "collapsed": false
   },
   "outputs": [],
   "source": [
    "n = 4\n",
    "p = 1/5.\n",
    "k = range(3,5)\n",
    "prob= []\n",
    "for success in k:\n",
    "    prob.append(math.factorial(n)/math.factorial(n-success)/math.factorial(success) * p**success * (1-p)**(n-success))\n",
    "\n",
    "    \n",
    "print '%.3f' % sum(prob)"
   ]
  },
  {
   "cell_type": "code",
   "execution_count": null,
   "metadata": {
    "collapsed": false
   },
   "outputs": [],
   "source": [
    "'''\n",
    "In a single throw of two unbiased dice, find the probability of \n",
    "getting a total of at most 9. Fill in the answer in the text box, \n",
    "in the form of an irreducible fraction A/B where A and B are two integers.\n",
    "'''\n",
    "\n",
    "possible_sums = 6**2\n",
    "success = 0\n",
    "for i in range(1,7):\n",
    "    for j in range(1,7):\n",
    "        if (i+j) <= 9:\n",
    "            success +=1\n",
    "b = success\n",
    "a = possible_sums\n",
    "while b:\n",
    "    a,b = b, a%b\n",
    "print success/a,'/',possible_sums/a"
   ]
  },
  {
   "cell_type": "code",
   "execution_count": null,
   "metadata": {
    "collapsed": false
   },
   "outputs": [],
   "source": [
    "'''\n",
    "0.44 0.68 511.14\n",
    "0.99 0.23 717.1\n",
    "'''\n",
    "import numpy as np\n",
    "import sys,itertools\n",
    "from sklearn.linear_model import LinearRegression\n",
    "from sklearn.svm import SVR\n",
    "\n",
    "if sys.version_info[0]>=3: \n",
    "    raw_input=input\n",
    "\n",
    "F,N=map(int,raw_input().split())\n",
    "factors=[list(map(float,raw_input().split())) for i in range(N)]"
   ]
  },
  {
   "cell_type": "code",
   "execution_count": null,
   "metadata": {
    "collapsed": false
   },
   "outputs": [],
   "source": [
    "factors"
   ]
  },
  {
   "cell_type": "code",
   "execution_count": null,
   "metadata": {
    "collapsed": true
   },
   "outputs": [],
   "source": [
    "target = []\n",
    "for i in range(len(factors)):\n",
    "    target.append(factors[i].pop()**0.5)"
   ]
  },
  {
   "cell_type": "code",
   "execution_count": null,
   "metadata": {
    "collapsed": false
   },
   "outputs": [],
   "source": [
    "target"
   ]
  },
  {
   "cell_type": "code",
   "execution_count": null,
   "metadata": {
    "collapsed": false
   },
   "outputs": [],
   "source": [
    "factors"
   ]
  },
  {
   "cell_type": "code",
   "execution_count": null,
   "metadata": {
    "collapsed": false
   },
   "outputs": [],
   "source": [
    "factors = [list(itertools.chain.from_iterable((e,e**2,e**3) for e in row)) for row in factors]"
   ]
  },
  {
   "cell_type": "code",
   "execution_count": null,
   "metadata": {
    "collapsed": false
   },
   "outputs": [],
   "source": [
    "factors"
   ]
  },
  {
   "cell_type": "code",
   "execution_count": null,
   "metadata": {
    "collapsed": true
   },
   "outputs": [],
   "source": [
    "clf = LinearRegression()"
   ]
  },
  {
   "cell_type": "code",
   "execution_count": null,
   "metadata": {
    "collapsed": false
   },
   "outputs": [],
   "source": [
    "clf.fit(factors,target)"
   ]
  },
  {
   "cell_type": "code",
   "execution_count": null,
   "metadata": {
    "collapsed": false
   },
   "outputs": [],
   "source": [
    "test=[list(map(float,raw_input().split())) for i in range(int(raw_input()))]\n",
    "test=[list(itertools.chain.from_iterable((e,e**2,e**3) for e in row)) for row in test]"
   ]
  },
  {
   "cell_type": "code",
   "execution_count": null,
   "metadata": {
    "collapsed": false
   },
   "outputs": [],
   "source": [
    "test"
   ]
  },
  {
   "cell_type": "code",
   "execution_count": null,
   "metadata": {
    "collapsed": false
   },
   "outputs": [],
   "source": [
    "for e in clf.predict(test):\n",
    "    print e**2"
   ]
  },
  {
   "cell_type": "code",
   "execution_count": null,
   "metadata": {
    "collapsed": false
   },
   "outputs": [],
   "source": [
    "import numpy as np\n",
    "import sys,itertools\n",
    "from sklearn.linear_model import LinearRegression\n",
    "from sklearn.svm import SVR\n",
    "\n",
    "F,N=map(int,raw_input().split())\n",
    "factors=[list(map(float,raw_input().split())) for i in range(N)]\n",
    "target = []\n",
    "for i in range(len(factors)):\n",
    "    target.append(factors[i].pop()**0.5)\n",
    "    \n",
    "factors = [list(itertools.chain.from_iterable((e,e**2,e**3) for e in row)) for row in factors]\n",
    "\n",
    "clf = LinearRegression()\n",
    "clf.fit(factors,target)\n",
    "test=[list(map(float,raw_input().split())) for i in range(int(raw_input()))]\n",
    "test=[list(itertools.chain.from_iterable((e,e**2,e**3) for e in row)) for row in test]\n",
    "\n",
    "for e in clf.predict(test):\n",
    "    print e**2"
   ]
  },
  {
   "cell_type": "code",
   "execution_count": null,
   "metadata": {
    "collapsed": true
   },
   "outputs": [],
   "source": [
    "xList = range(5)\n",
    "yList = range(5)\n"
   ]
  },
  {
   "cell_type": "code",
   "execution_count": null,
   "metadata": {
    "collapsed": false
   },
   "outputs": [],
   "source": [
    "zList = [x*y for y in yList for x in xList if x*y !=0]"
   ]
  },
  {
   "cell_type": "code",
   "execution_count": null,
   "metadata": {
    "collapsed": false
   },
   "outputs": [],
   "source": [
    "## Correlation and Regression\n",
    "#import numpy as np\n",
    "def dot(v,w):\n",
    "    return sum(v_i*w_i for v_i, w_i in zip(v,w))\n",
    "\n",
    "physics_scores = [15 , 12 , 8 ,  8  , 7 ,  7 ,  7 ,  6  , 5 ,3]\n",
    "history_scores = [10 , 25 , 17,  11 , 13,  17,  20,  13,  9  , 15]\n",
    "\n",
    "#from scipy.stats.stats import pearsonr\n",
    "#X1 = np.array(physics_scores[:])\n",
    "#X2 = np.array(history_scores[:])\n",
    "#r = pearsonr(physics_scores, history_scores)\n",
    "#print '%.2f' % r[0]\n"
   ]
  },
  {
   "cell_type": "code",
   "execution_count": null,
   "metadata": {
    "collapsed": false
   },
   "outputs": [],
   "source": [
    "dot(physics_scores,history_scores)"
   ]
  },
  {
   "cell_type": "code",
   "execution_count": null,
   "metadata": {
    "collapsed": false
   },
   "outputs": [],
   "source": [
    "alist = []"
   ]
  },
  {
   "cell_type": "code",
   "execution_count": null,
   "metadata": {
    "collapsed": false
   },
   "outputs": [],
   "source": [
    "## Polar coordinates\n",
    "import cmath\n",
    "z = complex(raw_input().strip())\n",
    "r = abs(z)\n",
    "phase = cmath.phase(z)\n",
    "\n",
    "print r\n",
    "print phase"
   ]
  },
  {
   "cell_type": "code",
   "execution_count": null,
   "metadata": {
    "collapsed": false
   },
   "outputs": [],
   "source": [
    "import math\n",
    "ab = int(raw_input().strip())\n",
    "bc = int(raw_input().strip())\n",
    "\n",
    "ac = math.sqrt(ab**2+bc**2)\n",
    "\n",
    "theta = math.degrees(math.acos(bc/ac))\n",
    "print '%.0f' % theta"
   ]
  },
  {
   "cell_type": "code",
   "execution_count": null,
   "metadata": {
    "collapsed": false
   },
   "outputs": [],
   "source": [
    "theta"
   ]
  },
  {
   "cell_type": "code",
   "execution_count": null,
   "metadata": {
    "collapsed": false
   },
   "outputs": [],
   "source": [
    "# -*- coding: utf-8 -*-\n",
    "degree = unichr(176).encode('utf-8')"
   ]
  },
  {
   "cell_type": "code",
   "execution_count": null,
   "metadata": {
    "collapsed": false
   },
   "outputs": [],
   "source": [
    "import itertools\n",
    "input_number = raw_input().strip()\n",
    "for e in itertools.groupby(input_number):\n",
    "    print '('+str(e[0])+','+str(len(list(e[1])))+')',"
   ]
  },
  {
   "cell_type": "code",
   "execution_count": null,
   "metadata": {
    "collapsed": false
   },
   "outputs": [],
   "source": [
    "list(input_number)"
   ]
  },
  {
   "cell_type": "code",
   "execution_count": null,
   "metadata": {
    "collapsed": false
   },
   "outputs": [],
   "source": [
    "from itertools import product\n",
    "print list(product([1,2,3],[1,2,3]))"
   ]
  },
  {
   "cell_type": "code",
   "execution_count": null,
   "metadata": {
    "collapsed": false
   },
   "outputs": [],
   "source": [
    "print list(product([1,2,3],repeat=2))"
   ]
  },
  {
   "cell_type": "code",
   "execution_count": null,
   "metadata": {
    "collapsed": false
   },
   "outputs": [],
   "source": [
    "from itertools import product\n",
    "A = list(map(int,raw_input().strip().split()))\n",
    "B = list(map(int,raw_input().strip().split()))\n",
    "AxB = list(product(A,B))\n",
    "print ' '.join(str(e) for e in AxB)"
   ]
  },
  {
   "cell_type": "code",
   "execution_count": null,
   "metadata": {
    "collapsed": false
   },
   "outputs": [],
   "source": [
    "AxB"
   ]
  },
  {
   "cell_type": "code",
   "execution_count": null,
   "metadata": {
    "collapsed": true
   },
   "outputs": [],
   "source": [
    "def fib(n,mem):\n",
    "    if n == 0:\n",
    "        mem[0] = 0\n",
    "    elif n == 1:\n",
    "        mem[1] = 1\n",
    "    elif n not in mem.keys():\n",
    "        mem[n] = fib(n-1,mem)+fib(n-2,mem)\n",
    "    return mem[n]\n",
    "\n",
    "def distFromFib(x,mem):\n",
    "    if x == 0:\n",
    "        return 0\n",
    "    n = 0\n",
    "    while x > fib(n,mem):\n",
    "        n +=1\n",
    "    return min(abs(mem[n] - x), abs(mem[n-1]-x) ) "
   ]
  },
  {
   "cell_type": "code",
   "execution_count": null,
   "metadata": {
    "collapsed": false
   },
   "outputs": [],
   "source": [
    "mem = {}\n",
    "distFromFib(7,mem)"
   ]
  },
  {
   "cell_type": "code",
   "execution_count": null,
   "metadata": {
    "collapsed": false
   },
   "outputs": [],
   "source": [
    "mem"
   ]
  },
  {
   "cell_type": "code",
   "execution_count": null,
   "metadata": {
    "collapsed": true
   },
   "outputs": [],
   "source": [
    "import string\n",
    "def F(test_case):\n",
    "    letter_dict={}\n",
    "    answer = []\n",
    "    test_case = list(test_case)\n",
    "    for letter in string.ascii_lowercase:\n",
    "        occurences = test_case.count(letter.lower())\n",
    "        if occurences > 0:\n",
    "            letter_dict[letter] = occurences\n",
    "    for letter in letter_dict.keys():\n",
    "        for i in range(letter_dict[letter]):\n",
    "            answer.append((i+1)*letter)\n",
    "    return answer"
   ]
  },
  {
   "cell_type": "code",
   "execution_count": null,
   "metadata": {
    "collapsed": false
   },
   "outputs": [],
   "source": [
    "test_case = 'zyzzz'\n",
    "F(test_case)"
   ]
  },
  {
   "cell_type": "code",
   "execution_count": null,
   "metadata": {
    "collapsed": false
   },
   "outputs": [],
   "source": [
    "\"A\".lower()"
   ]
  },
  {
   "cell_type": "code",
   "execution_count": null,
   "metadata": {
    "collapsed": false
   },
   "outputs": [],
   "source": [
    "'''\n",
    "6\n",
    "aaabbb\n",
    "ab\n",
    "abc\n",
    "mnop\n",
    "xyyx\n",
    "xaxbbbxx\n",
    "'''\n",
    "from collections import Counter\n",
    "\n",
    "t = int(raw_input().strip())\n",
    "for _ in range(t):\n",
    "    s = raw_input().strip()\n",
    "    if len(s)%2!=0:\n",
    "        print -1\n",
    "        continue\n",
    "    \n",
    "    s1 = list(s[:len(s)//2])\n",
    "    s2 = list(s[len(s)//2:])\n",
    "    foundAnagram=False\n",
    "    c2 = Counter(s2)\n",
    "    \n",
    "    replacements = len(s1)\n",
    "    \n",
    "    for c in s1:\n",
    "        if c in c2.keys() and c2[c]>0:\n",
    "            replacements-=1\n",
    "            c2[c]-=1\n",
    "    print replacements\n"
   ]
  },
  {
   "cell_type": "code",
   "execution_count": null,
   "metadata": {
    "collapsed": false
   },
   "outputs": [],
   "source": [
    "from collections import Counter\n",
    "'''\n",
    "aaabbb\n",
    "ab\n",
    "abc\n",
    "mnop\n",
    "xyyx\n",
    "xaxbbbxx\n",
    "'''"
   ]
  },
  {
   "cell_type": "code",
   "execution_count": null,
   "metadata": {
    "collapsed": false
   },
   "outputs": [],
   "source": [
    "Counter(s1)\n",
    "Counter(s2)"
   ]
  },
  {
   "cell_type": "code",
   "execution_count": null,
   "metadata": {
    "collapsed": false
   },
   "outputs": [],
   "source": [
    "set(s1)"
   ]
  },
  {
   "cell_type": "code",
   "execution_count": null,
   "metadata": {
    "collapsed": true
   },
   "outputs": [],
   "source": [
    "def isAnagram(s,t):\n",
    "    count = {}\n",
    "    for c in s:\n",
    "        if c in count.keys():\n",
    "            count[c]+=1\n",
    "        else:\n",
    "            count[c] = 1\n",
    "    \n",
    "    for c in t:\n",
    "        if c in count.keys():\n",
    "            count[c]-=1\n",
    "        else:\n",
    "            return False\n",
    "        \n",
    "        if count[c]<0:\n",
    "            return False\n",
    "    return True"
   ]
  },
  {
   "cell_type": "code",
   "execution_count": null,
   "metadata": {
    "collapsed": false
   },
   "outputs": [],
   "source": [
    "isAnagram('cat','tacc')"
   ]
  },
  {
   "cell_type": "code",
   "execution_count": null,
   "metadata": {
    "collapsed": true
   },
   "outputs": [],
   "source": [
    "## Maximum subarray\n",
    "def maxSubArr(arr):\n",
    "    non_cont_max = -9999\n",
    "    cont_max = -9999\n",
    "    if max(arr)<0:\n",
    "        return max(arr),max(arr)\n",
    "    \n",
    "    non_cont_max = sum([n for n in arr if n>0])\n",
    "    \n",
    "    current_sum = 0\n",
    "    for n in range(len(arr)):\n",
    "        current_sum += arr[n]\n",
    "        cont_max = max(cont_max,current_sum)\n",
    "        if current_sum<0:\n",
    "            current_sum = 0\n",
    "    return non_cont_max, cont_max"
   ]
  },
  {
   "cell_type": "code",
   "execution_count": null,
   "metadata": {
    "collapsed": false
   },
   "outputs": [],
   "source": [
    "arr_test = [2,-1,2,3,4,-5]\n",
    "maxSubArr(arr_test)"
   ]
  },
  {
   "cell_type": "code",
   "execution_count": null,
   "metadata": {
    "collapsed": false
   },
   "outputs": [],
   "source": [
    "import random\n",
    "import seaborn as sns\n",
    "import matplotlib.pyplot as plt\n",
    "%matplotlib inline\n",
    "def bernoulli(p):\n",
    "    if random.random() < p: return 1\n",
    "    else: return 0\n",
    "\n",
    "X = [bernoulli(0.7) for _ in range(100)]\n",
    "sns.distplot(X,kde=False)"
   ]
  },
  {
   "cell_type": "code",
   "execution_count": null,
   "metadata": {
    "collapsed": true
   },
   "outputs": [],
   "source": [
    "X = np.random.normal(50,50,1000)"
   ]
  },
  {
   "cell_type": "code",
   "execution_count": null,
   "metadata": {
    "collapsed": false
   },
   "outputs": [],
   "source": [
    "sns.distplot(X,kde=False)"
   ]
  },
  {
   "cell_type": "code",
   "execution_count": null,
   "metadata": {
    "collapsed": true
   },
   "outputs": [],
   "source": [
    "X_shifted = [x-X.mean() for x in X]"
   ]
  },
  {
   "cell_type": "code",
   "execution_count": null,
   "metadata": {
    "collapsed": false
   },
   "outputs": [],
   "source": [
    "sns.distplot(X_shifted,kde=False)"
   ]
  },
  {
   "cell_type": "code",
   "execution_count": 316,
   "metadata": {
    "collapsed": false
   },
   "outputs": [
    {
     "name": "stdout",
     "output_type": "stream",
     "text": [
      "177\n",
      "10\n",
      "17\n",
      "7\n",
      "(17, 7)\n"
     ]
    }
   ],
   "source": [
    "## python mod divmod\n",
    "from __future__ import division\n",
    "a = int(raw_input().strip())\n",
    "b = int(raw_input().strip())\n",
    "\n",
    "print a//b\n",
    "print a%b\n",
    "print divmod(a,b)"
   ]
  },
  {
   "cell_type": "code",
   "execution_count": 326,
   "metadata": {
    "collapsed": false
   },
   "outputs": [
    {
     "name": "stdout",
     "output_type": "stream",
     "text": [
      "4\n",
      "1 2 4 5\n",
      "4\n"
     ]
    }
   ],
   "source": [
    "## Find the second largest number\n",
    "_ = int(raw_input().strip())\n",
    "alist = map(int, raw_input().strip().split())\n",
    "\n",
    "the_max = max(alist)\n",
    "subset = []\n",
    "for n in alist:\n",
    "    if n!=the_max:\n",
    "        subset.append(n)\n",
    "if not subset:\n",
    "    print the_max\n",
    "else:\n",
    "    print max(subset)\n",
    "         "
   ]
  },
  {
   "cell_type": "code",
   "execution_count": 332,
   "metadata": {
    "collapsed": false
   },
   "outputs": [
    {
     "name": "stdout",
     "output_type": "stream",
     "text": [
      "ABCDCDC\n",
      "CDC\n",
      "2\n"
     ]
    }
   ],
   "source": [
    "# Find a string\n",
    "s = raw_input().strip()\n",
    "pattern = raw_input().strip()\n",
    "\n",
    "pattern_size = len(pattern)\n",
    "patterns_in_string = 0\n",
    "for p in range(len(s)):\n",
    "    if s[p:p+pattern_size] == pattern:\n",
    "        patterns_in_string +=1\n",
    "print patterns_in_string"
   ]
  },
  {
   "cell_type": "code",
   "execution_count": 330,
   "metadata": {
    "collapsed": false
   },
   "outputs": [
    {
     "data": {
      "text/plain": [
       "'cat'"
      ]
     },
     "execution_count": 330,
     "metadata": {},
     "output_type": "execute_result"
    }
   ],
   "source": [
    "s = 'cathartic'\n",
    "pattern = 'cat'\n",
    "s[0:0+len(pattern)]"
   ]
  },
  {
   "cell_type": "code",
   "execution_count": 337,
   "metadata": {
    "collapsed": false
   },
   "outputs": [
    {
     "name": "stdout",
     "output_type": "stream",
     "text": [
      "1\n",
      "1\n",
      "1\n",
      "2\n"
     ]
    }
   ],
   "source": [
    "## hackerrank list comprehension\n",
    "X=int(raw_input().strip())\n",
    "Y=int(raw_input().strip())\n",
    "Z=int(raw_input().strip())\n",
    "N=int(raw_input().strip())\n",
    "\n",
    "answer = [[a,b,c] for a in range(X+1) for b in range(Y+1) for c in range(Z+1) if a+b+c!=N]"
   ]
  },
  {
   "cell_type": "code",
   "execution_count": 338,
   "metadata": {
    "collapsed": false
   },
   "outputs": [
    {
     "data": {
      "text/plain": [
       "[[0, 0, 0], [0, 0, 1], [0, 1, 0], [1, 0, 0], [1, 1, 1]]"
      ]
     },
     "execution_count": 338,
     "metadata": {},
     "output_type": "execute_result"
    }
   ],
   "source": [
    "answer"
   ]
  },
  {
   "cell_type": "code",
   "execution_count": 96,
   "metadata": {
    "collapsed": false
   },
   "outputs": [
    {
     "name": "stdout",
     "output_type": "stream",
     "text": [
      "5 3\n",
      "10\n"
     ]
    }
   ],
   "source": [
    "########################################\n",
    "## Capitol One Labs Coding Assessment\n",
    "########################################\n",
    "\n",
    "# 1\n",
    "import math\n",
    "m,n = map(int,raw_input().strip().split())\n",
    "\n",
    "answer = math.factorial(m)/math.factorial(m-n)/math.factorial(n)\n",
    "print answer"
   ]
  },
  {
   "cell_type": "code",
   "execution_count": 97,
   "metadata": {
    "collapsed": false
   },
   "outputs": [
    {
     "name": "stdout",
     "output_type": "stream",
     "text": [
      "I may opt for a top yam for Amy, May, and Tommy.\n",
      "a adn amy for i mmoty opt\n"
     ]
    }
   ],
   "source": [
    "# 2\n",
    "import string\n",
    "test = list(raw_input().strip().split())\n",
    "\n",
    "cleaned_arr = []\n",
    "for word in test:\n",
    "    cleaned_word = ''\n",
    "    for char in word:\n",
    "        if char.lower() in string.ascii_lowercase:\n",
    "            cleaned_word+=char\n",
    "        else:\n",
    "            continue\n",
    "        cleaned_word = sorted(cleaned_word.lower())\n",
    "        cleaned_word = ''.join(c for c in cleaned_word)\n",
    "    cleaned_arr.append(cleaned_word)\n",
    "\n",
    "cleaned_set = set(cleaned_arr)\n",
    "cleaned_set = sorted(cleaned_set)\n",
    "print ' '.join([word for word in cleaned_set])\n"
   ]
  },
  {
   "cell_type": "code",
   "execution_count": 47,
   "metadata": {
    "collapsed": false
   },
   "outputs": [
    {
     "data": {
      "text/plain": [
       "['i',\n",
       " 'amy',\n",
       " 'opt',\n",
       " 'for',\n",
       " 'a',\n",
       " 'opt',\n",
       " 'amy',\n",
       " 'for',\n",
       " 'amy',\n",
       " 'amy',\n",
       " 'adn',\n",
       " 'mmoty']"
      ]
     },
     "execution_count": 47,
     "metadata": {},
     "output_type": "execute_result"
    }
   ],
   "source": [
    "cleaned_arr"
   ]
  },
  {
   "cell_type": "code",
   "execution_count": 52,
   "metadata": {
    "collapsed": false
   },
   "outputs": [],
   "source": [
    "cleaned_set = set(cleaned_arr)\n",
    "cleaned_set = sorted(cleaned_set)"
   ]
  },
  {
   "cell_type": "code",
   "execution_count": 53,
   "metadata": {
    "collapsed": false
   },
   "outputs": [
    {
     "name": "stdout",
     "output_type": "stream",
     "text": [
      "a adn amy for i mmoty opt\n"
     ]
    }
   ],
   "source": [
    "print ' '.join([word for word in cleaned_set])"
   ]
  },
  {
   "cell_type": "code",
   "execution_count": 7,
   "metadata": {
    "collapsed": false
   },
   "outputs": [
    {
     "name": "stdout",
     "output_type": "stream",
     "text": [
      "111 5\n",
      "754\n"
     ]
    }
   ],
   "source": [
    "# 3\n",
    "\n",
    "N,K = map(int,raw_input().strip().split())\n",
    "current = N\n",
    "for _ in range(K):\n",
    "    if current%2 == 0:\n",
    "        current /= 2\n",
    "    else:\n",
    "        current = 3*current+1\n",
    "print current"
   ]
  },
  {
   "cell_type": "code",
   "execution_count": 6,
   "metadata": {
    "collapsed": false
   },
   "outputs": [
    {
     "name": "stdout",
     "output_type": "stream",
     "text": [
      "111 5\n",
      "754\n"
     ]
    }
   ],
   "source": [
    "# 3 (alternate)\n",
    "def collatz(N,current,K):\n",
    "    if current == K: \n",
    "        return N\n",
    "    \n",
    "    else:\n",
    "        if N%2==0:\n",
    "            N /= 2\n",
    "            current+=1\n",
    "        else:\n",
    "            N = 3*N+1\n",
    "            current+=1\n",
    "    return collatz(N,current,K)\n",
    "\n",
    "N,K = map(int,raw_input().strip().split())\n",
    "current = 0\n",
    "print collatz(N,current,K)"
   ]
  },
  {
   "cell_type": "code",
   "execution_count": 5,
   "metadata": {
    "collapsed": false
   },
   "outputs": [
    {
     "name": "stdout",
     "output_type": "stream",
     "text": [
      "111 5\n",
      "None\n"
     ]
    }
   ],
   "source": [
    "def collatz(N,current,K):\n",
    "\n",
    "    if current in mem.keys():\n",
    "        return mem[current]\n",
    "    \n",
    "    if N%2==0:\n",
    "        N /= 2\n",
    "        current+=1\n",
    "        mem[current] = N\n",
    "    else:\n",
    "        N = 3*N+1\n",
    "        current+=1\n",
    "        mem[current] = N\n",
    "    \n",
    "    if current == K:\n",
    "        return mem[current]\n",
    "    \n",
    "N,K = map(int,raw_input().strip().split())\n",
    "current = 0\n",
    "mem = {}\n",
    "print collatz(N,current,K)"
   ]
  },
  {
   "cell_type": "code",
   "execution_count": 4,
   "metadata": {
    "collapsed": false
   },
   "outputs": [
    {
     "data": {
      "text/plain": [
       "334"
      ]
     },
     "execution_count": 4,
     "metadata": {},
     "output_type": "execute_result"
    }
   ],
   "source": [
    "3*111+1"
   ]
  },
  {
   "cell_type": "code",
   "execution_count": 95,
   "metadata": {
    "collapsed": false
   },
   "outputs": [
    {
     "name": "stdout",
     "output_type": "stream",
     "text": [
      "1.5 2 -1 -2.5 3\n",
      "2 -1 2 0.5\n",
      "0.679\n"
     ]
    }
   ],
   "source": [
    "# 4\n",
    "import math\n",
    "def logisticFcn(z):\n",
    "    return 1.0/(1.0+math.exp(-z))\n",
    "\n",
    "def dotProduct(x1,x2):\n",
    "    return sum(a*b for a,b in zip(x1,x2))\n",
    "\n",
    "coeff_list = list(map(float,raw_input().strip().split()))\n",
    "\n",
    "data = list(map(float,raw_input().strip().split()))\n",
    "data.append(1)\n",
    "\n",
    "z = dotProduct(coeff_list,data)\n",
    "predict_prob = logisticFcn(z)\n",
    "\n",
    "print '%.3f' % predict_prob\n"
   ]
  },
  {
   "cell_type": "code",
   "execution_count": 66,
   "metadata": {
    "collapsed": false
   },
   "outputs": [
    {
     "data": {
      "text/plain": [
       "0.9933071490757153"
      ]
     },
     "execution_count": 66,
     "metadata": {},
     "output_type": "execute_result"
    }
   ],
   "source": []
  },
  {
   "cell_type": "code",
   "execution_count": 87,
   "metadata": {
    "collapsed": false
   },
   "outputs": [
    {
     "data": {
      "text/plain": [
       "[1.5, 2.0, -1.0, -2.5, 3.0]"
      ]
     },
     "execution_count": 87,
     "metadata": {},
     "output_type": "execute_result"
    }
   ],
   "source": [
    "coeff_list"
   ]
  },
  {
   "cell_type": "code",
   "execution_count": 88,
   "metadata": {
    "collapsed": false
   },
   "outputs": [
    {
     "data": {
      "text/plain": [
       "[2.0, -1.0, 2.0, 0.5, 1]"
      ]
     },
     "execution_count": 88,
     "metadata": {},
     "output_type": "execute_result"
    }
   ],
   "source": [
    "data"
   ]
  },
  {
   "cell_type": "code",
   "execution_count": 89,
   "metadata": {
    "collapsed": false
   },
   "outputs": [],
   "source": [
    "z = dot(coeff_list,data)"
   ]
  },
  {
   "cell_type": "code",
   "execution_count": 90,
   "metadata": {
    "collapsed": false
   },
   "outputs": [
    {
     "data": {
      "text/plain": [
       "0.679178699175393"
      ]
     },
     "execution_count": 90,
     "metadata": {},
     "output_type": "execute_result"
    }
   ],
   "source": [
    "logisticFcn(z)"
   ]
  },
  {
   "cell_type": "code",
   "execution_count": 5,
   "metadata": {
    "collapsed": true
   },
   "outputs": [],
   "source": [
    "## Z-score\n",
    "import numpy as np\n",
    "class_score = np.random.normal(50,10,1000)"
   ]
  },
  {
   "cell_type": "code",
   "execution_count": 6,
   "metadata": {
    "collapsed": false
   },
   "outputs": [
    {
     "data": {
      "text/plain": [
       "<matplotlib.axes.AxesSubplot at 0xa50bc40c>"
      ]
     },
     "execution_count": 6,
     "metadata": {},
     "output_type": "execute_result"
    },
    {
     "data": {
      "image/png": "[encoded data removed]",
      "text/plain": [
       "<matplotlib.figure.Figure at 0xa90d0fcc>"
      ]
     },
     "metadata": {},
     "output_type": "display_data"
    }
   ],
   "source": [
    "import seaborn as sns\n",
    "%matplotlib inline\n",
    "sns.distplot(class_score,kde=False)"
   ]
  },
  {
   "cell_type": "code",
   "execution_count": 8,
   "metadata": {
    "collapsed": true
   },
   "outputs": [],
   "source": [
    "## convert to Z-score\n",
    "import scipy.stats as stats"
   ]
  },
  {
   "cell_type": "code",
   "execution_count": null,
   "metadata": {
    "collapsed": true
   },
   "outputs": [],
   "source": [
    "np.mean(class_score)"
   ]
  },
  {
   "cell_type": "code",
   "execution_count": 17,
   "metadata": {
    "collapsed": false
   },
   "outputs": [
    {
     "data": {
      "text/plain": [
       "10.142832140698934"
      ]
     },
     "execution_count": 17,
     "metadata": {},
     "output_type": "execute_result"
    }
   ],
   "source": [
    "np.std(class_score)"
   ]
  },
  {
   "cell_type": "code",
   "execution_count": 20,
   "metadata": {
    "collapsed": false
   },
   "outputs": [
    {
     "data": {
      "text/plain": [
       "62.780095643549863"
      ]
     },
     "execution_count": 20,
     "metadata": {},
     "output_type": "execute_result"
    }
   ],
   "source": [
    "## 90% test score\n",
    "np.mean(class_score)+stats.norm.ppf(0.9)*np.std(class_score)"
   ]
  },
  {
   "cell_type": "code",
   "execution_count": 21,
   "metadata": {
    "collapsed": false
   },
   "outputs": [
    {
     "data": {
      "text/plain": [
       "10.142832140698934"
      ]
     },
     "execution_count": 21,
     "metadata": {},
     "output_type": "execute_result"
    }
   ],
   "source": [
    "class_score.std()"
   ]
  },
  {
   "cell_type": "code",
   "execution_count": 27,
   "metadata": {
    "collapsed": false
   },
   "outputs": [
    {
     "data": {
      "text/plain": [
       "66.465007468769656"
      ]
     },
     "execution_count": 27,
     "metadata": {},
     "output_type": "execute_result"
    }
   ],
   "source": [
    "np.mean(class_score)+stats.norm.ppf(0.95)*np.std(class_score)"
   ]
  },
  {
   "cell_type": "code",
   "execution_count": 31,
   "metadata": {
    "collapsed": false
   },
   "outputs": [],
   "source": [
    "## z-score for 5% significance level\n",
    "z = (68-np.mean(class_score))/np.std(class_score)"
   ]
  },
  {
   "cell_type": "code",
   "execution_count": 32,
   "metadata": {
    "collapsed": false
   },
   "outputs": [
    {
     "data": {
      "text/plain": [
       "0.036232049600421479"
      ]
     },
     "execution_count": 32,
     "metadata": {},
     "output_type": "execute_result"
    }
   ],
   "source": [
    "1.0-stats.norm.cdf(z)"
   ]
  },
  {
   "cell_type": "code",
   "execution_count": 38,
   "metadata": {
    "collapsed": false
   },
   "outputs": [
    {
     "name": "stdout",
     "output_type": "stream",
     "text": [
      "-2.33333333333\n"
     ]
    }
   ],
   "source": [
    "## Nat'l avg = 60, class avg = 53. Are they statistically different?\n",
    "z = (53-60)/3.0\n",
    "print z"
   ]
  },
  {
   "cell_type": "code",
   "execution_count": 36,
   "metadata": {
    "collapsed": true
   },
   "outputs": [],
   "source": [
    "prob = stats.norm.cdf(z)"
   ]
  },
  {
   "cell_type": "code",
   "execution_count": 37,
   "metadata": {
    "collapsed": false
   },
   "outputs": [
    {
     "data": {
      "text/plain": [
       "0.0098153286286453353"
      ]
     },
     "execution_count": 37,
     "metadata": {},
     "output_type": "execute_result"
    }
   ],
   "source": [
    "prob"
   ]
  },
  {
   "cell_type": "code",
   "execution_count": 41,
   "metadata": {
    "collapsed": true
   },
   "outputs": [],
   "source": [
    "kenyan_men_hts = np.random.normal(183,20,1000)"
   ]
  },
  {
   "cell_type": "code",
   "execution_count": 42,
   "metadata": {
    "collapsed": false
   },
   "outputs": [
    {
     "data": {
      "text/plain": [
       "<matplotlib.axes.AxesSubplot at 0xa4c931cc>"
      ]
     },
     "execution_count": 42,
     "metadata": {},
     "output_type": "execute_result"
    },
    {
     "data": {
      "image/png": "[encoded data removed]",
      "text/plain": [
       "<matplotlib.figure.Figure at 0xa4c9380c>"
      ]
     },
     "metadata": {},
     "output_type": "display_data"
    }
   ],
   "source": [
    "sns.distplot(kenyan_men_hts,kde=False)"
   ]
  },
  {
   "cell_type": "code",
   "execution_count": 43,
   "metadata": {
    "collapsed": false
   },
   "outputs": [
    {
     "data": {
      "text/plain": [
       "182.8296820130611"
      ]
     },
     "execution_count": 43,
     "metadata": {},
     "output_type": "execute_result"
    }
   ],
   "source": [
    "kenyan_men_hts.mean()"
   ]
  },
  {
   "cell_type": "code",
   "execution_count": 45,
   "metadata": {
    "collapsed": false
   },
   "outputs": [
    {
     "data": {
      "text/plain": [
       "0.62687576200813866"
      ]
     },
     "execution_count": 45,
     "metadata": {},
     "output_type": "execute_result"
    }
   ],
   "source": [
    "np.std(kenyan_men_hts)/np.sqrt(len(kenyan_men_hts))"
   ]
  },
  {
   "cell_type": "code",
   "execution_count": 46,
   "metadata": {
    "collapsed": false
   },
   "outputs": [
    {
     "data": {
      "text/plain": [
       "0.6271894351636238"
      ]
     },
     "execution_count": 46,
     "metadata": {},
     "output_type": "execute_result"
    }
   ],
   "source": [
    "## standard error of the mean\n",
    "stats.sem(kenyan_men_hts)"
   ]
  },
  {
   "cell_type": "code",
   "execution_count": 50,
   "metadata": {
    "collapsed": false
   },
   "outputs": [
    {
     "name": "stdout",
     "output_type": "stream",
     "text": [
      "184.058973306\n",
      "181.60039072\n"
     ]
    }
   ],
   "source": [
    "## 95% CI --> 1.96 standard errors\n",
    "print np.mean(kenyan_men_hts) + 1.96*stats.sem(kenyan_men_hts)\n",
    "print np.mean(kenyan_men_hts) - 1.96*stats.sem(kenyan_men_hts)"
   ]
  },
  {
   "cell_type": "code",
   "execution_count": 60,
   "metadata": {
    "collapsed": false
   },
   "outputs": [],
   "source": [
    "kenyan_men_sample_means = [np.random.normal(183,20,10000).mean() for _ in range(30)]"
   ]
  },
  {
   "cell_type": "code",
   "execution_count": 61,
   "metadata": {
    "collapsed": false
   },
   "outputs": [
    {
     "data": {
      "text/plain": [
       "<matplotlib.axes.AxesSubplot at 0xa4961a6c>"
      ]
     },
     "execution_count": 61,
     "metadata": {},
     "output_type": "execute_result"
    },
    {
     "data": {
      "image/png": "[encoded data removed]",
      "text/plain": [
       "<matplotlib.figure.Figure at 0xa49688ac>"
      ]
     },
     "metadata": {},
     "output_type": "display_data"
    }
   ],
   "source": [
    "sns.distplot(kenyan_men_sample_means,kde=False)"
   ]
  },
  {
   "cell_type": "code",
   "execution_count": 64,
   "metadata": {
    "collapsed": true
   },
   "outputs": [],
   "source": [
    "sample1 = np.random.normal(50,10,10)\n",
    "sample2 = np.random.normal(45,6,10)"
   ]
  },
  {
   "cell_type": "code",
   "execution_count": 65,
   "metadata": {
    "collapsed": false
   },
   "outputs": [
    {
     "data": {
      "text/plain": [
       "(2.1048804376501646, 0.049613563360708254)"
      ]
     },
     "execution_count": 65,
     "metadata": {},
     "output_type": "execute_result"
    }
   ],
   "source": [
    "stats.ttest_ind(sample1,sample2)"
   ]
  },
  {
   "cell_type": "code",
   "execution_count": 2,
   "metadata": {
    "collapsed": false
   },
   "outputs": [
    {
     "data": {
      "text/plain": [
       "0.03125"
      ]
     },
     "execution_count": 2,
     "metadata": {},
     "output_type": "execute_result"
    }
   ],
   "source": [
    "1./2**5"
   ]
  },
  {
   "cell_type": "code",
   "execution_count": 51,
   "metadata": {
    "collapsed": true
   },
   "outputs": [],
   "source": [
    "## BFS\n",
    "graph = {\n",
    "        '1': ['2', '3', '4'],\n",
    "        '2': ['5', '6'],\n",
    "        '5': ['9', '10'],\n",
    "        '4': ['7', '8'],\n",
    "        '7': ['11', '12']\n",
    "        }\n",
    "\n",
    "def BFS(graph,start,end):\n",
    "    queue = []\n",
    "    queue.append([start])\n",
    "    while queue:\n",
    "        print 'queue:',queue\n",
    "        path = queue.pop(0)\n",
    "        print 'path:',path\n",
    "        node = path[-1]\n",
    "        print 'node:',node\n",
    "        if node == end:\n",
    "            return path\n",
    "        for adjascent in graph.get(node,[]):\n",
    "            new_path = list(path)\n",
    "            new_path.append(adjascent)\n",
    "            queue.append(new_path)\n",
    "        print ''"
   ]
  },
  {
   "cell_type": "code",
   "execution_count": 52,
   "metadata": {
    "collapsed": false
   },
   "outputs": [
    {
     "name": "stdout",
     "output_type": "stream",
     "text": [
      "queue: [['1']]\n",
      "path: ['1']\n",
      "node: 1\n",
      "\n",
      "queue: [['1', '2'], ['1', '3'], ['1', '4']]\n",
      "path: ['1', '2']\n",
      "node: 2\n",
      "\n",
      "queue: [['1', '3'], ['1', '4'], ['1', '2', '5'], ['1', '2', '6']]\n",
      "path: ['1', '3']\n",
      "node: 3\n",
      "\n",
      "queue: [['1', '4'], ['1', '2', '5'], ['1', '2', '6']]\n",
      "path: ['1', '4']\n",
      "node: 4\n",
      "\n",
      "queue: [['1', '2', '5'], ['1', '2', '6'], ['1', '4', '7'], ['1', '4', '8']]\n",
      "path: ['1', '2', '5']\n",
      "node: 5\n",
      "\n",
      "queue: [['1', '2', '6'], ['1', '4', '7'], ['1', '4', '8'], ['1', '2', '5', '9'], ['1', '2', '5', '10']]\n",
      "path: ['1', '2', '6']\n",
      "node: 6\n",
      "\n",
      "queue: [['1', '4', '7'], ['1', '4', '8'], ['1', '2', '5', '9'], ['1', '2', '5', '10']]\n",
      "path: ['1', '4', '7']\n",
      "node: 7\n",
      "\n",
      "queue: [['1', '4', '8'], ['1', '2', '5', '9'], ['1', '2', '5', '10'], ['1', '4', '7', '11'], ['1', '4', '7', '12']]\n",
      "path: ['1', '4', '8']\n",
      "node: 8\n",
      "\n",
      "queue: [['1', '2', '5', '9'], ['1', '2', '5', '10'], ['1', '4', '7', '11'], ['1', '4', '7', '12']]\n",
      "path: ['1', '2', '5', '9']\n",
      "node: 9\n",
      "\n",
      "queue: [['1', '2', '5', '10'], ['1', '4', '7', '11'], ['1', '4', '7', '12']]\n",
      "path: ['1', '2', '5', '10']\n",
      "node: 10\n",
      "\n",
      "queue: [['1', '4', '7', '11'], ['1', '4', '7', '12']]\n",
      "path: ['1', '4', '7', '11']\n",
      "node: 11\n"
     ]
    },
    {
     "data": {
      "text/plain": [
       "['1', '4', '7', '11']"
      ]
     },
     "execution_count": 52,
     "metadata": {},
     "output_type": "execute_result"
    }
   ],
   "source": [
    "BFS(graph,'1','11')"
   ]
  },
  {
   "cell_type": "code",
   "execution_count": 65,
   "metadata": {
    "collapsed": false
   },
   "outputs": [
    {
     "name": "stdout",
     "output_type": "stream",
     "text": [
      "6\n"
     ]
    }
   ],
   "source": [
    "## Find non-duplicate in the array\n",
    "arr = [1,1,2,2,3,3,4,4,5,5,6,7,7]\n",
    "result = 0\n",
    "for num in arr:\n",
    "    result = result ^ num\n",
    "print result"
   ]
  },
  {
   "cell_type": "code",
   "execution_count": 59,
   "metadata": {
    "collapsed": false
   },
   "outputs": [
    {
     "data": {
      "text/plain": [
       "1"
      ]
     },
     "execution_count": 59,
     "metadata": {},
     "output_type": "execute_result"
    }
   ],
   "source": [
    "1^3^2^2^3"
   ]
  },
  {
   "cell_type": "code",
   "execution_count": 64,
   "metadata": {
    "collapsed": false
   },
   "outputs": [
    {
     "data": {
      "text/plain": [
       "1"
      ]
     },
     "execution_count": 64,
     "metadata": {},
     "output_type": "execute_result"
    }
   ],
   "source": [
    "2^3"
   ]
  },
  {
   "cell_type": "code",
   "execution_count": 30,
   "metadata": {
    "collapsed": false
   },
   "outputs": [],
   "source": [
    "    def removeDuplicates(nums):\n",
    "        \"\"\"\n",
    "        :type nums: List[int]\n",
    "        :rtype: int\n",
    "        \"\"\"\n",
    "        if not nums:\n",
    "            return 0\n",
    "        \n",
    "        last,i = 0,1\n",
    "        while i < len(nums):\n",
    "            if nums[last]!=nums[i]:\n",
    "                last+=1\n",
    "                nums[last] = nums[i]\n",
    "            i+=1\n",
    "        return nums[:last+1]"
   ]
  },
  {
   "cell_type": "code",
   "execution_count": 31,
   "metadata": {
    "collapsed": false
   },
   "outputs": [
    {
     "data": {
      "text/plain": [
       "[1, 2, 3, 4, 5]"
      ]
     },
     "execution_count": 31,
     "metadata": {},
     "output_type": "execute_result"
    }
   ],
   "source": [
    "removeDuplicates([1,1,2,2,3,3,4,5,5])"
   ]
  },
  {
   "cell_type": "code",
   "execution_count": 16,
   "metadata": {
    "collapsed": true
   },
   "outputs": [],
   "source": [
    "test = deque()\n",
    "test.append(1)\n",
    "test.append(2)"
   ]
  },
  {
   "cell_type": "code",
   "execution_count": 17,
   "metadata": {
    "collapsed": false
   },
   "outputs": [
    {
     "data": {
      "text/plain": [
       "deque([1, 2])"
      ]
     },
     "execution_count": 17,
     "metadata": {},
     "output_type": "execute_result"
    }
   ],
   "source": [
    "test"
   ]
  },
  {
   "cell_type": "code",
   "execution_count": 18,
   "metadata": {
    "collapsed": false
   },
   "outputs": [
    {
     "data": {
      "text/plain": [
       "1"
      ]
     },
     "execution_count": 18,
     "metadata": {},
     "output_type": "execute_result"
    }
   ],
   "source": [
    "test.popleft()"
   ]
  },
  {
   "cell_type": "code",
   "execution_count": 19,
   "metadata": {
    "collapsed": false
   },
   "outputs": [
    {
     "data": {
      "text/plain": [
       "deque([2])"
      ]
     },
     "execution_count": 19,
     "metadata": {},
     "output_type": "execute_result"
    }
   ],
   "source": [
    "test"
   ]
  },
  {
   "cell_type": "code",
   "execution_count": 52,
   "metadata": {
    "collapsed": false
   },
   "outputs": [],
   "source": [
    "graph = {\n",
    "    1:[2,3,4],\n",
    "    2:[5,6],\n",
    "    3:[7,8],\n",
    "    4:[8,9,10]\n",
    "}\n",
    "from collections import deque\n",
    "def BFS(graph,start,end):\n",
    "    queue = deque()\n",
    "    queue.append([start])\n",
    "    \n",
    "    while queue:\n",
    "        path = queue.popleft()\n",
    "        node = path[-1]\n",
    "        if node == end:\n",
    "            return path\n",
    "        for neighbors in graph.get(node,[]):\n",
    "            new_path = list(path)\n",
    "            new_path.append(neighbors)\n",
    "            queue.append(new_path)\n",
    "    print 'Unable to locate end node.'"
   ]
  },
  {
   "cell_type": "code",
   "execution_count": 53,
   "metadata": {
    "collapsed": false
   },
   "outputs": [
    {
     "data": {
      "text/plain": [
       "[1, 4, 10]"
      ]
     },
     "execution_count": 53,
     "metadata": {},
     "output_type": "execute_result"
    }
   ],
   "source": [
    "BFS(graph,1,10)"
   ]
  },
  {
   "cell_type": "code",
   "execution_count": 3,
   "metadata": {
    "collapsed": false
   },
   "outputs": [
    {
     "data": {
      "text/plain": [
       "['3', '4']"
      ]
     },
     "execution_count": 3,
     "metadata": {},
     "output_type": "execute_result"
    }
   ],
   "source": [
    "list(str(34))"
   ]
  },
  {
   "cell_type": "code",
   "execution_count": 12,
   "metadata": {
    "collapsed": true
   },
   "outputs": [],
   "source": [
    "    def addDigits(num):\n",
    "        \"\"\"\n",
    "        :type num: int\n",
    "        :rtype: int\n",
    "        \"\"\"\n",
    "        summer = num\n",
    "        while len(str(summer))!=1:\n",
    "            summer = sum([int(i) for i in list(str(summer))])\n",
    "        return summer"
   ]
  },
  {
   "cell_type": "code",
   "execution_count": 13,
   "metadata": {
    "collapsed": false
   },
   "outputs": [
    {
     "data": {
      "text/plain": [
       "2"
      ]
     },
     "execution_count": 13,
     "metadata": {},
     "output_type": "execute_result"
    }
   ],
   "source": [
    "addDigits(38)"
   ]
  },
  {
   "cell_type": "code",
   "execution_count": 11,
   "metadata": {
    "collapsed": true
   },
   "outputs": [],
   "source": [
    "## move zeroes to end\n",
    "def moveZeroes(nums):\n",
    "    pos = 0\n",
    "    for i in xrange(len(nums)):\n",
    "        if nums[i]!=0:\n",
    "            nums[i],nums[pos] = nums[pos],nums[i]\n",
    "            pos+=1\n",
    "            print nums\n",
    "    return nums"
   ]
  },
  {
   "cell_type": "code",
   "execution_count": 12,
   "metadata": {
    "collapsed": false
   },
   "outputs": [
    {
     "name": "stdout",
     "output_type": "stream",
     "text": [
      "[1, 0, 0, 3, 12]\n",
      "[1, 3, 0, 0, 12]\n",
      "[1, 3, 12, 0, 0]\n"
     ]
    },
    {
     "data": {
      "text/plain": [
       "[1, 3, 12, 0, 0]"
      ]
     },
     "execution_count": 12,
     "metadata": {},
     "output_type": "execute_result"
    }
   ],
   "source": [
    "moveZeroes([0,1,0,3,12])"
   ]
  },
  {
   "cell_type": "code",
   "execution_count": 28,
   "metadata": {
    "collapsed": false
   },
   "outputs": [
    {
     "name": "stdout",
     "output_type": "stream",
     "text": [
      "stack: ['A']\n",
      "vertex: A\n",
      "visited: set(['A'])\n",
      "\n",
      "stack: ['C', 'B']\n",
      "vertex: B\n",
      "visited: set(['A', 'B'])\n",
      "\n",
      "stack: ['C', 'E', 'D']\n",
      "vertex: D\n",
      "visited: set(['A', 'B', 'D'])\n",
      "\n",
      "stack: ['C', 'E']\n",
      "vertex: E\n",
      "visited: set(['A', 'B', 'E', 'D'])\n",
      "\n",
      "stack: ['C', 'F']\n",
      "vertex: F\n",
      "visited: set(['A', 'B', 'E', 'D', 'F'])\n",
      "\n",
      "stack: ['C', 'C']\n",
      "vertex: C\n",
      "visited: set(['A', 'C', 'B', 'E', 'D', 'F'])\n",
      "\n",
      "stack: ['C']\n",
      "vertex: C\n",
      "visited: set(['A', 'C', 'B', 'E', 'D', 'F'])\n",
      "\n"
     ]
    },
    {
     "data": {
      "text/plain": [
       "{'A', 'B', 'C', 'D', 'E', 'F'}"
      ]
     },
     "execution_count": 28,
     "metadata": {},
     "output_type": "execute_result"
    }
   ],
   "source": [
    "## DFS algorithm\n",
    "\n",
    "graph = {'A': set(['B', 'C']),\n",
    "         'B': set(['A', 'D', 'E']),\n",
    "         'C': set(['A', 'F']),\n",
    "         'D': set(['B']),\n",
    "         'E': set(['B', 'F']),\n",
    "         'F': set(['C', 'E'])}\n",
    "\n",
    "def dfs(graph, start):\n",
    "    visited, stack = set(), [start]\n",
    "    while stack:\n",
    "        print 'stack:',stack\n",
    "        vertex = stack.pop()\n",
    "        print 'vertex:',vertex\n",
    "        if vertex not in visited:\n",
    "            visited.add(vertex)\n",
    "            stack.extend(graph[vertex] - visited)\n",
    "        print 'visited:',visited\n",
    "        print ''\n",
    "    return visited\n",
    "\n",
    "\n",
    "dfs(graph,'A')"
   ]
  },
  {
   "cell_type": "code",
   "execution_count": 47,
   "metadata": {
    "collapsed": false
   },
   "outputs": [
    {
     "name": "stdout",
     "output_type": "stream",
     "text": [
      "[('C', ['A', 'C']), ('B', ['A', 'B'])]\n",
      "[('C', ['A', 'C']), ('E', ['A', 'B', 'E']), ('D', ['A', 'B', 'D'])]\n",
      "[('C', ['A', 'C']), ('E', ['A', 'B', 'E'])]\n",
      "[('C', ['A', 'C'])]\n",
      "[]\n"
     ]
    },
    {
     "data": {
      "text/plain": [
       "[['A', 'B', 'E', 'F'], ['A', 'C', 'F']]"
      ]
     },
     "execution_count": 47,
     "metadata": {},
     "output_type": "execute_result"
    }
   ],
   "source": [
    "## DFS paths\n",
    "graph = {'A': set(['B', 'C']),\n",
    "         'B': set(['A', 'D', 'E']),\n",
    "         'C': set(['A', 'F']),\n",
    "         'D': set(['B']),\n",
    "         'E': set(['B', 'F']),\n",
    "         'F': set(['C', 'E'])}\n",
    "\n",
    "def dfs_paths(graph,start,end):\n",
    "    stack = [(start,[start])]\n",
    "    while stack:\n",
    "        (vertex, path) = stack.pop()\n",
    "        \n",
    "        for next in graph[vertex]-set(path):\n",
    "            if next == end:\n",
    "                yield path+[next]\n",
    "            else:\n",
    "                stack.append((next,path+[next]))\n",
    "        print stack\n",
    "        \n",
    "list(dfs_paths(graph, 'A', 'F'))"
   ]
  },
  {
   "cell_type": "code",
   "execution_count": 1,
   "metadata": {
    "collapsed": false
   },
   "outputs": [
    {
     "name": "stdout",
     "output_type": "stream",
     "text": [
      "queue: ['A']\n",
      "queue: ['C', 'B']\n",
      "queue: ['B', 'E', 'D']\n",
      "queue: ['E', 'D']\n",
      "queue: ['D']\n",
      "queue: ['F']\n"
     ]
    },
    {
     "data": {
      "text/plain": [
       "{'A', 'B', 'C', 'D', 'E', 'F'}"
      ]
     },
     "execution_count": 1,
     "metadata": {},
     "output_type": "execute_result"
    }
   ],
   "source": [
    "## BFS algorithm\n",
    "\n",
    "graph = {'A': set(['B', 'C']),\n",
    "         'B': set(['A']),\n",
    "         'C': set(['A', 'D','E']),\n",
    "         'D': set(['C','F']),\n",
    "         'E': set(['C']),\n",
    "         'F': set(['D'])}\n",
    "\n",
    "def bfs(graph, start):\n",
    "    visited, queue = set(), [start]\n",
    "    while queue:\n",
    "        print 'queue:',queue\n",
    "        vertex = queue.pop(0)\n",
    "        #print 'vertex:',vertex\n",
    "        if vertex not in visited:\n",
    "            visited.add(vertex)\n",
    "            queue.extend(graph[vertex] - visited)\n",
    "        #print 'visited:',visited\n",
    "        #print ''\n",
    "    return visited\n",
    "\n",
    "bfs(graph, 'A')"
   ]
  },
  {
   "cell_type": "code",
   "execution_count": 57,
   "metadata": {
    "collapsed": false
   },
   "outputs": [
    {
     "data": {
      "text/plain": [
       "[['A', 'C', 'F'], ['A', 'B', 'E', 'F'], ['A', 'B', 'D', 'F']]"
      ]
     },
     "execution_count": 57,
     "metadata": {},
     "output_type": "execute_result"
    }
   ],
   "source": [
    "graph = {'A': set(['B', 'C']),\n",
    "         'B': set(['A', 'D', 'E']),\n",
    "         'C': set(['A', 'F']),\n",
    "         'D': set(['B','F']),\n",
    "         'E': set(['B', 'F']),\n",
    "         'F': set(['C', 'E','D'])}\n",
    "\n",
    "def bfs_paths(graph,start,end):\n",
    "    queue = [(start,[start])]\n",
    "    while queue:\n",
    "        (vertex, path) = queue.pop(0)\n",
    "        \n",
    "        for next in graph[vertex]-set(path):\n",
    "            if next == end:\n",
    "                yield path+[next]\n",
    "            else:\n",
    "                queue.append((next,path+[next]))\n",
    "        #print queue\n",
    "        \n",
    "list(bfs_paths(graph, 'A', 'F'))"
   ]
  },
  {
   "cell_type": "code",
   "execution_count": 55,
   "metadata": {
    "collapsed": false
   },
   "outputs": [
    {
     "data": {
      "text/plain": [
       "['A', 'C', 'F']"
      ]
     },
     "execution_count": 55,
     "metadata": {},
     "output_type": "execute_result"
    }
   ],
   "source": [
    "def shortest_path(graph, start, goal):\n",
    "    try:\n",
    "        return next(bfs_paths(graph, start, goal))\n",
    "    except StopIteration:\n",
    "        return None\n",
    "\n",
    "shortest_path(graph, 'A', 'F')"
   ]
  },
  {
   "cell_type": "code",
   "execution_count": 62,
   "metadata": {
    "collapsed": false
   },
   "outputs": [
    {
     "data": {
      "text/plain": [
       "{'B', 'F'}"
      ]
     },
     "execution_count": 62,
     "metadata": {},
     "output_type": "execute_result"
    }
   ],
   "source": [
    "graph['D']"
   ]
  },
  {
   "cell_type": "code",
   "execution_count": 61,
   "metadata": {
    "collapsed": false
   },
   "outputs": [
    {
     "data": {
      "text/plain": [
       "{'F'}"
      ]
     },
     "execution_count": 61,
     "metadata": {},
     "output_type": "execute_result"
    }
   ],
   "source": [
    "graph['D'] - set(['A','B','C'])"
   ]
  },
  {
   "cell_type": "code",
   "execution_count": 5,
   "metadata": {
    "collapsed": false
   },
   "outputs": [
    {
     "name": "stdout",
     "output_type": "stream",
     "text": [
      "stack: ['A']\n",
      "stack: ['C', 'B']\n",
      "stack: ['C']\n",
      "stack: ['E', 'D']\n",
      "stack: ['E', 'F']\n",
      "stack: ['E']\n"
     ]
    },
    {
     "data": {
      "text/plain": [
       "{'A', 'B', 'C', 'D', 'E', 'F'}"
      ]
     },
     "execution_count": 5,
     "metadata": {},
     "output_type": "execute_result"
    }
   ],
   "source": [
    "## DFS algorithm\n",
    "\n",
    "graph = {'A': set(['B', 'C']),\n",
    "         'B': set(['A']),\n",
    "         'C': set(['A', 'D','E']),\n",
    "         'D': set(['C','F']),\n",
    "         'E': set(['C']),\n",
    "         'F': set(['D'])}\n",
    "\n",
    "def dfs(graph, start):\n",
    "    visited, stack = set(), [start]\n",
    "    while stack:\n",
    "        print 'stack:',stack\n",
    "        vertex = stack.pop()\n",
    "        if vertex not in visited:\n",
    "            visited.add(vertex)\n",
    "            stack.extend(graph[vertex] - visited)\n",
    "    return visited\n",
    "\n",
    "dfs(graph, 'A')"
   ]
  },
  {
   "cell_type": "code",
   "execution_count": 3,
   "metadata": {
    "collapsed": false
   },
   "outputs": [
    {
     "data": {
      "text/plain": [
       "{'A', 'B', 'C', 'D', 'E', 'F'}"
      ]
     },
     "execution_count": 3,
     "metadata": {},
     "output_type": "execute_result"
    }
   ],
   "source": [
    "graph = {'A': set(['B', 'C']),\n",
    "         'B': set(['A']),\n",
    "         'C': set(['A', 'D','E']),\n",
    "         'D': set(['C','F']),\n",
    "         'E': set(['C']),\n",
    "         'F': set(['D'])}\n",
    "## DFS (recursive)\n",
    "def dfs(graph,start,visited=None):\n",
    "    if visited is None:\n",
    "        visited = set()\n",
    "    \n",
    "    visited.add(start)\n",
    "    for next in graph[start]-visited:\n",
    "        dfs(graph,next,visited)\n",
    "    return visited\n",
    "\n",
    "dfs(graph,'A')"
   ]
  },
  {
   "cell_type": "code",
   "execution_count": 10,
   "metadata": {
    "collapsed": true
   },
   "outputs": [],
   "source": [
    "graph = {'1': set(['3', '4']),\n",
    "         '3': set(['1']),\n",
    "         '4': set(['1', '6','8']),\n",
    "         '6': set(['4','8']),\n",
    "         '8': set(['4','5']),\n",
    "         '5': set(['8'])}\n",
    "\n",
    "def bfs_find_max(graph,start):\n",
    "    visited, queue = set(), [start]\n",
    "    maximum = start\n",
    "    while queue:\n",
    "        vertex = queue.pop(0)\n",
    "        if vertex not in visited:\n",
    "            visited.add(vertex)\n",
    "            queue.extend(graph[vertex]-visited)\n",
    "        if vertex > maximum: maximum = vertex\n",
    "    return maximum\n",
    "\n",
    "def dfs_find_max(graph,start):\n",
    "    visited, stack = set(), [start]\n",
    "    maximum = start\n",
    "    while stack:\n",
    "        vertex = stack.pop()\n",
    "        if vertex not in visited:\n",
    "            visited.add(vertex)\n",
    "            stack.extend(graph[vertex]-visited)\n",
    "        if vertex > maximum: maximum = vertex\n",
    "    return maximum"
   ]
  },
  {
   "cell_type": "code",
   "execution_count": 11,
   "metadata": {
    "collapsed": false
   },
   "outputs": [
    {
     "data": {
      "text/plain": [
       "'8'"
      ]
     },
     "execution_count": 11,
     "metadata": {},
     "output_type": "execute_result"
    }
   ],
   "source": [
    "dfs_find_max(graph,'1')"
   ]
  },
  {
   "cell_type": "code",
   "execution_count": 22,
   "metadata": {
    "collapsed": true
   },
   "outputs": [],
   "source": [
    "'''\n",
    "Given two strings s and t, write a function to determine if t is an anagram of s.\n",
    "\n",
    "For example,\n",
    "s = \"anagram\", t = \"nagaram\", return true.\n",
    "s = \"rat\", t = \"car\", return false.\n",
    "\n",
    "Note:\n",
    "You may assume the string contains only lowercase alphabets.\n",
    "'''\n",
    "\n",
    "def isAnagram(s,t):\n",
    "    _hash = {}\n",
    "    \n",
    "    if len(s)!=len(t): return False\n",
    "    \n",
    "    for c in s:\n",
    "        if c not in _hash.keys():\n",
    "            _hash[c] = 1\n",
    "        else:\n",
    "            _hash[c]+=1\n",
    "    \n",
    " \n",
    "    for c in t:\n",
    "        if c not in _hash.keys():\n",
    "            return False\n",
    "        else:\n",
    "            _hash[c]-=1\n",
    "        if _hash[c]<0: return False\n",
    "    \n",
    "    return True"
   ]
  },
  {
   "cell_type": "code",
   "execution_count": 23,
   "metadata": {
    "collapsed": false
   },
   "outputs": [
    {
     "data": {
      "text/plain": [
       "True"
      ]
     },
     "execution_count": 23,
     "metadata": {},
     "output_type": "execute_result"
    }
   ],
   "source": [
    "isAnagram('anagram','nagaram')"
   ]
  },
  {
   "cell_type": "code",
   "execution_count": 3,
   "metadata": {
    "collapsed": true
   },
   "outputs": [],
   "source": [
    "'''\n",
    "Given a column title as appear in an Excel sheet, return its corresponding column number.\n",
    "\n",
    "For example:\n",
    "\n",
    "    A -> 1\n",
    "    B -> 2\n",
    "    C -> 3\n",
    "    ...\n",
    "    Z -> 26\n",
    "    AA -> 27\n",
    "    AB -> 28 \n",
    "'''\n",
    "\n",
    "def titleToNumber(title):\n",
    "    result = 0\n",
    "    for i in xrange(len(title)):\n",
    "        result*=26\n",
    "        result += ord(title[i])-ord('A') + 1\n",
    "    return result"
   ]
  },
  {
   "cell_type": "code",
   "execution_count": 7,
   "metadata": {
    "collapsed": false
   },
   "outputs": [
    {
     "data": {
      "text/plain": [
       "30"
      ]
     },
     "execution_count": 7,
     "metadata": {},
     "output_type": "execute_result"
    }
   ],
   "source": [
    "titleToNumber('AD')"
   ]
  },
  {
   "cell_type": "code",
   "execution_count": 12,
   "metadata": {
    "collapsed": true
   },
   "outputs": [],
   "source": [
    "'''\n",
    "Given an array of integers, find if the array contains any duplicates. \n",
    "Your function should return true if any value appears at least twice in the array, \n",
    "and it should return false if every element is distinct.\n",
    "'''\n",
    "from collections import Counter\n",
    "def containsDups(arr):\n",
    "    counter = Counter(arr)\n",
    "    for counts in counter.keys():\n",
    "        if counter[counts]>1:\n",
    "            return True\n",
    "    return False"
   ]
  },
  {
   "cell_type": "code",
   "execution_count": 14,
   "metadata": {
    "collapsed": false
   },
   "outputs": [
    {
     "data": {
      "text/plain": [
       "True"
      ]
     },
     "execution_count": 14,
     "metadata": {},
     "output_type": "execute_result"
    }
   ],
   "source": [
    "arr = [1,2,3,4,5,5]\n",
    "containsDups(arr)"
   ]
  },
  {
   "cell_type": "code",
   "execution_count": 15,
   "metadata": {
    "collapsed": true
   },
   "outputs": [],
   "source": [
    "'''\n",
    "Find the maximum sum in a subarray of contiguous \n",
    "integers given an array of integers.\n",
    "input: arr[int]\n",
    "rtype: int\n",
    "'''\n",
    "def maxSubSum(arr):\n",
    "    current_sum = 0\n",
    "    max_sum = -99999\n",
    "    for i in xrange(len(arr)):\n",
    "        current_sum +=arr[i]\n",
    "        max_sum = max(current_sum,max_sum)\n",
    "    return max_sum"
   ]
  },
  {
   "cell_type": "code",
   "execution_count": 16,
   "metadata": {
    "collapsed": false
   },
   "outputs": [
    {
     "data": {
      "text/plain": [
       "4"
      ]
     },
     "execution_count": 16,
     "metadata": {},
     "output_type": "execute_result"
    }
   ],
   "source": [
    "maxSubSum([1,-2,5,-5])"
   ]
  },
  {
   "cell_type": "code",
   "execution_count": null,
   "metadata": {
    "collapsed": true
   },
   "outputs": [],
   "source": []
  }
 ],
 "metadata": {
  "kernelspec": {
   "display_name": "Python 2",
   "language": "python",
   "name": "python2"
  },
  "language_info": {
   "codemirror_mode": {
    "name": "ipython",
    "version": 2
   },
   "file_extension": ".py",
   "mimetype": "text/x-python",
   "name": "python",
   "nbconvert_exporter": "python",
   "pygments_lexer": "ipython2",
   "version": "2.7.6"
  }
 },
 "nbformat": 4,
 "nbformat_minor": 0
}
